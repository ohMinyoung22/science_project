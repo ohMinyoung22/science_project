{
 "cells": [
  {
   "cell_type": "code",
   "execution_count": 1,
   "metadata": {},
   "outputs": [],
   "source": [
    "import pandas as pd\n",
    "import matplotlib.pyplot as plt\n",
    "import seaborn as sns\n",
    "import scipy\n",
    "from matplotlib.colors import LinearSegmentedColormap\n",
    "import numpy as np\n",
    "\n",
    "from sklearn.linear_model import LogisticRegression\n",
    "from sklearn.preprocessing import StandardScaler\n",
    "from sklearn import metrics\n",
    "import statsmodels.api as sm\n",
    "\n",
    "plt.rcParams['font.family'] = 'HYGraphic-Medium'"
   ]
  },
  {
   "cell_type": "code",
   "execution_count": 126,
   "metadata": {},
   "outputs": [
    {
     "name": "stderr",
     "output_type": "stream",
     "text": [
      "C:\\Users\\science7\\AppData\\Local\\Temp\\ipykernel_1236\\2124785483.py:4: DtypeWarning: Columns (18) have mixed types. Specify dtype option on import or set low_memory=False.\n",
      "  df[i] = pd.read_csv(\"../data/csv_in_\" + str(i) + \".csv\")\n",
      "C:\\Users\\science7\\AppData\\Local\\Temp\\ipykernel_1236\\2124785483.py:4: DtypeWarning: Columns (18) have mixed types. Specify dtype option on import or set low_memory=False.\n",
      "  df[i] = pd.read_csv(\"../data/csv_in_\" + str(i) + \".csv\")\n",
      "C:\\Users\\science7\\AppData\\Local\\Temp\\ipykernel_1236\\2124785483.py:4: DtypeWarning: Columns (16) have mixed types. Specify dtype option on import or set low_memory=False.\n",
      "  df[i] = pd.read_csv(\"../data/csv_in_\" + str(i) + \".csv\")\n",
      "C:\\Users\\science7\\AppData\\Local\\Temp\\ipykernel_1236\\2124785483.py:4: DtypeWarning: Columns (16) have mixed types. Specify dtype option on import or set low_memory=False.\n",
      "  df[i] = pd.read_csv(\"../data/csv_in_\" + str(i) + \".csv\")\n"
     ]
    }
   ],
   "source": [
    "df = {}\n",
    "\n",
    "for i in range(2014, 2022):\n",
    "    df[i] = pd.read_csv(\"../data/csv_in_\" + str(i) + \".csv\")\n",
    "    df[i].drop(labels=df[i][df[i]['아내지역코드'] == 80].index, inplace=True)\n",
    "    df[i].drop(labels=df[i][df[i]['남편지역코드'] == 80].index, inplace=True)\n",
    "    df[i].drop(labels=df[i][df[i]['아내직업코드'] == 99].index, inplace=True)\n",
    "    df[i].drop(labels=df[i][df[i]['남편직업코드'] == 99].index, inplace=True)\n",
    "    df[i].drop(labels=df[i][df[i]['아내결혼코드'] == 9].index, inplace=True)\n",
    "    df[i].drop(labels=df[i][df[i]['남편결혼코드'] == 9].index, inplace=True)\n",
    "    df[i].drop(labels=df[i][df[i]['남편교육코드'] == 9].index, inplace=True)\n",
    "    df[i].drop(labels=df[i][df[i]['아내교육코드'] == 9].index, inplace=True)\n",
    "\n",
    "mandic = {1:10015,2:5011,3:4833,5:3325.5,6:2582,7:3510,8:3539,9:2494,13:0}\n",
    "womandic = {1:8024,2:3136,3:3256,5:2119,6:2060,7:2156,8:2795,9:1897,13:0}\n",
    "\n",
    "for i in range(2014,2022):\n",
    "    df[i]['남편소득수준'] = df[i]['남편직업코드']\n",
    "    df[i]['아내소득수준'] = df[i]['아내직업코드']\n",
    "    \n",
    "    for j in mandic.keys():\n",
    "        df[i]['남편소득수준'].replace(j,mandic[j], inplace=True)\n",
    "        df[i]['아내소득수준'].replace(j,mandic[j], inplace=True)\n",
    "\n",
    "df[2019] = pd.concat([df[2014], df[2015], df[2016], df[2017], df[2018], df[2019], df[2020], df[2021]])"
   ]
  },
  {
   "cell_type": "code",
   "execution_count": 127,
   "metadata": {},
   "outputs": [
    {
     "name": "stdout",
     "output_type": "stream",
     "text": [
      "<class 'pandas.core.frame.DataFrame'>\n",
      "Int64Index: 1737401 entries, 0 to 123107\n",
      "Data columns (total 21 columns):\n",
      " #   Column    Dtype  \n",
      "---  ------    -----  \n",
      " 0   신고연도      int64  \n",
      " 1   신고월       int64  \n",
      " 2   신고일       int64  \n",
      " 3   남편지역코드    int64  \n",
      " 4   아내지역코드    int64  \n",
      " 5   실제결혼연도    int64  \n",
      " 6   실제결혼월     int64  \n",
      " 7   남편직업코드    int64  \n",
      " 8   아내직업코드    int64  \n",
      " 9   남편교육코드    int64  \n",
      " 10  아내교육코드    int64  \n",
      " 11  남편결혼코드    int64  \n",
      " 12  아내결혼코드    int64  \n",
      " 13  남편연령      float64\n",
      " 14  아내연령      float64\n",
      " 15  남편국적구분코드  float64\n",
      " 16  남편국적코드    object \n",
      " 17  아내국적구분코드  float64\n",
      " 18  아내국적코드    object \n",
      " 19  남편소득수준    float64\n",
      " 20  아내소득수준    float64\n",
      "dtypes: float64(6), int64(13), object(2)\n",
      "memory usage: 291.6+ MB\n"
     ]
    }
   ],
   "source": [
    "df[year].info()"
   ]
  },
  {
   "cell_type": "code",
   "execution_count": 128,
   "metadata": {},
   "outputs": [],
   "source": [
    "year = 2019\n",
    "# 소득  (연속)\n",
    "\n",
    "# 소득 차이 (연속)\n",
    "\n",
    "# 여성결혼연령 (연속)\n",
    "\n",
    "\n",
    "\n",
    "# 연상혼\n",
    "df[year].loc[df[year]['남편연령'] < df[year]['아내연령'], \"연상혼여부\"] = 1\n",
    "df[year].loc[df[year]['남편연령'] >= df[year]['아내연령'], \"연상혼여부\"] = 0\n",
    "\n",
    "# 아내 대도시\n",
    "df[year].loc[df[year]['아내지역코드'].isin([11, 21, 22, 23, 24, 25]), \"아내대도시여부\"] = 1\n",
    "df[year].loc[~df[year]['아내지역코드'].isin([11, 21, 22, 23, 24, 25]), \"아내대도시여부\"] = 0\n",
    "\n",
    "# 남편 대도시\n",
    "df[year].loc[df[year]['남편지역코드'].isin([11, 21, 22, 23, 24, 25]), \"남편대도시여부\"] = 1\n",
    "df[year].loc[~df[year]['남편지역코드'].isin([11, 21, 22, 23, 24, 25]), \"남편대도시여부\"] = 0\n",
    "\n",
    "# 남자 결혼 종류\n",
    "\n",
    "# 여자 결혼 종류\n",
    "\n",
    "# 아내 초혼 여부\n",
    "df[year].loc[df[year]['아내결혼코드'] == 1, \"아내초혼여부\"] = 1\n",
    "df[year].loc[df[year]['아내결혼코드'] != 1, \"아내초혼여부\"]= 0\n",
    "\n",
    "# 남편 초혼 여부\n",
    "df[year].loc[df[year]['남편결혼코드'] == 1, \"남편초혼여부\"] = 1\n",
    "df[year].loc[df[year]['남편결혼코드'] != 1, \"남편초혼여부\"]= 0\n",
    "\n",
    "# 결혼 종류 차이 여부\n",
    "df[year].loc[df[year]['남편초혼여부'] == df[year]['아내초혼여부'], \"결혼종류차이여부\"] = 1\n",
    "df[year].loc[df[year]['남편초혼여부'] != df[year]['아내초혼여부'], \"결혼종류차이여부\"]= 0\n",
    "\n",
    "# 강혼 유무\n",
    "df[year].loc[df[year]['아내교육코드'] > df[year]['남편교육코드'], \"강혼여부\"] = 1\n",
    "df[year].loc[df[year]['아내교육코드'] <= df[year]['남편교육코드'], \"강혼여부\"] = 0\n",
    "\n",
    "# 소득 차\n",
    "df[year]['소득차'] = df[year]['아내소득수준'] - df[year]['남편소득수준']\n",
    "\n",
    "df[year]['아내연령제곱'] = df[year]['아내연령'] ** 2\n",
    "df[year]['남편연령제곱'] = df[year]['남편연령'] ** 2\n",
    "\n",
    "# 연상혼 유무\n",
    "df[year].loc[df[year]['아내연령'] > df[year]['남편연령'], \"연상혼여부\"] = 1\n",
    "df[year].loc[df[year]['아내연령'] <= df[year]['남편연령'], \"연상혼여부\"] = 0\n",
    "\n",
    "# 아내 무직 여부\n",
    "df[year].loc[df[year]['아내직업코드'] == 13, \"아내무직여부\"] = 1\n",
    "df[year].loc[df[year]['아내직업코드'] != 13, \"아내무직여부\"] = 0\n",
    "\n",
    "# 남편 무직 여부\n",
    "df[year].loc[df[year]['남편직업코드'] == 13, \"남편무직여부\"] = 1\n",
    "df[year].loc[df[year]['남편직업코드'] != 13, \"남편무직여부\"] = 0\n",
    "\n",
    "df[year].loc[df[year]['남편지역코드'] == df[year]['아내지역코드'], \"동일지역여부\"] = 1\n",
    "df[year].loc[df[year]['남편지역코드'] != df[year]['아내지역코드'], \"동일지역여부\"] = 0\n",
    "\n",
    "df[year].loc[df[year]['아내교육코드'] == 4, \"아내고졸여부\"] = 1\n",
    "df[year].loc[df[year]['아내교육코드'] != 4, \"아내고졸여부\"] = 0\n",
    "\n",
    "df[year].loc[df[year]['아내교육코드'] == 5, \"아내대졸여부\"] = 1\n",
    "df[year].loc[df[year]['아내교육코드'] != 5, \"아내대졸여부\"] = 0\n",
    "\n",
    "df[year].loc[df[year]['아내교육코드'] == 6, \"아내대학원졸여부\"] = 1\n",
    "df[year].loc[df[year]['아내교육코드'] != 6, \"아내대학원졸여부\"] = 0\n",
    "\n",
    "df[year].loc[df[year]['아내지역코드'].isin([11, 23, 31]), \"아내수도권여부\"] = 1\n",
    "df[year].loc[~df[year]['아내지역코드'].isin([11, 23, 31]), \"아내수도권여부\"] = 0\n",
    "\n",
    "df[year].loc[df[year]['남편지역코드'].isin([11, 23, 31]), \"남편수도권여부\"] = 1\n",
    "df[year].loc[~df[year]['남편지역코드'].isin([11, 23, 31]), \"남편수도권여부\"] = 0\n",
    "\n",
    "df[year].loc[df[year]['실제결혼연도'] == 2015, \"15년여부\"] = 1\n",
    "df[year].loc[df[year]['실제결혼연도'] != 2015, \"15년여부\"] = 0\n",
    "df[year].loc[df[year]['실제결혼연도'] == 2016, \"16년여부\"] = 1\n",
    "df[year].loc[df[year]['실제결혼연도'] != 2016, \"16년여부\"] = 0\n",
    "df[year].loc[df[year]['실제결혼연도'] == 2017, \"17년여부\"] = 1\n",
    "df[year].loc[df[year]['실제결혼연도'] != 2017, \"17년여부\"] = 0\n",
    "df[year].loc[df[year]['실제결혼연도'] == 2018, \"18년여부\"] = 1\n",
    "df[year].loc[df[year]['실제결혼연도'] != 2018, \"18년여부\"] = 0\n",
    "df[year].loc[df[year]['실제결혼연도'] == 2019, \"19년여부\"] = 1\n",
    "df[year].loc[df[year]['실제결혼연도'] != 2019, \"19년여부\"] = 0\n",
    "df[year].loc[df[year]['실제결혼연도'] == 2020, \"20년여부\"] = 1\n",
    "df[year].loc[df[year]['실제결혼연도'] != 2020, \"20년여부\"] = 0\n",
    "\n",
    "df[year].loc[df[year]['실제결혼연도'] == 2021, \"21년여부\"] = 1\n",
    "df[year].loc[df[year]['실제결혼연도'] != 2021, \"21년여부\"] = 0\n",
    "\n",
    "woman_int_condition = (df[year]['남편국적구분코드'] == 1) & df[year]['아내국적구분코드'].isin([2,3])\n",
    "\n",
    "# df[year].loc[woman_int_condition, \"아내국제결혼여부\"] = 1\n",
    "# df[year].loc[~woman_int_condition, \"아내국제결혼여부\"] = 0\n"
   ]
  },
  {
   "cell_type": "code",
   "execution_count": 129,
   "metadata": {},
   "outputs": [],
   "source": [
    "# ct = pd.crosstab(df[year]['아내국제결혼여부'], df[year]['강혼여부'])\n",
    "\n",
    "# ct"
   ]
  },
  {
   "cell_type": "markdown",
   "metadata": {},
   "source": [
    "### 출생코호트 -> 5년 단위\n",
    "### 출생연도 기준 코호트 : 출생연도 계산 [실결혼연도 - 연령] -> 연령 올림후 연도에서 빼기"
   ]
  },
  {
   "cell_type": "code",
   "execution_count": 130,
   "metadata": {},
   "outputs": [],
   "source": [
    "import math\n",
    "\n",
    "df[year]['아내연령올림'] = df[year]['아내연령'].apply(np.ceil)\n",
    "\n",
    "df[year]['아내출생연도'] = df[year]['실제결혼연도'] - df[year]['아내연령올림']\n"
   ]
  },
  {
   "cell_type": "code",
   "execution_count": 131,
   "metadata": {},
   "outputs": [],
   "source": [
    "#아내 출생코호트\n",
    "\n",
    "min = 1970\n",
    "step = 5\n",
    "for y in range (1970, 2000, step):\n",
    "    df[year].loc[df[year]['아내출생연도'].between(y, y + 5), \"아내코호트\"] = f\"{y} to {y + 5}\" \n",
    "\n",
    "for code in df[year]['아내코호트'].unique():\n",
    "    df[year].loc[df[year]['아내코호트'] == code, str(code) + \" (아내)\"] = 1\n",
    "    df[year].loc[df[year]['아내코호트'] != code, str(code) + \" (아내)\"] = 0\n",
    "\n"
   ]
  },
  {
   "cell_type": "code",
   "execution_count": 132,
   "metadata": {},
   "outputs": [],
   "source": [
    "df[year].drop(axis = 1, labels='nan (아내)', inplace=True)"
   ]
  },
  {
   "cell_type": "code",
   "execution_count": 133,
   "metadata": {},
   "outputs": [],
   "source": [
    "#남편 출생연도\n",
    "import math\n",
    "\n",
    "df[year]['남편연령올림'] = df[year]['남편연령'].apply(np.ceil)\n",
    "\n",
    "df[year]['남편출생연도'] = df[year]['실제결혼연도'] - df[year]['남편연령올림']\n",
    "\n",
    "#남편 출생코호트\n",
    "\n",
    "min = 1970\n",
    "step = 5\n",
    "\n",
    "for y in range (1970, 2000, step):\n",
    "    df[year].loc[df[year]['남편출생연도'].between(y, y + 5), \"남편코호트\"] = f\"{y} to {y + 5}\" \n",
    "\n",
    "for code in df[year]['남편코호트'].unique():\n",
    "    df[year].loc[df[year]['남편코호트'] == code, str(code) + \" (남편)\"] = 1\n",
    "    df[year].loc[df[year]['남편코호트'] != code, str(code) + \" (남편)\"] = 0"
   ]
  },
  {
   "cell_type": "code",
   "execution_count": 134,
   "metadata": {},
   "outputs": [],
   "source": [
    "df[year].drop(axis = 1, labels='nan (남편)', inplace=True)"
   ]
  },
  {
   "cell_type": "code",
   "execution_count": 135,
   "metadata": {},
   "outputs": [
    {
     "name": "stdout",
     "output_type": "stream",
     "text": [
      "Optimization terminated successfully.\n",
      "         Current function value: 0.632709\n",
      "         Iterations 7\n",
      "aic : 2198601.3680619467\n",
      "강혼으로 로지스틱 회귀분석\n",
      "                           Logit Regression Results                           \n",
      "==============================================================================\n",
      "Dep. Variable:                   강혼여부   No. Observations:              1737401\n",
      "Model:                          Logit   Df Residuals:                  1737370\n",
      "Method:                           MLE   Df Model:                           30\n",
      "Date:                Tue, 16 Aug 2022   Pseudo R-squ.:                 -0.3715\n",
      "Time:                        16:58:05   Log-Likelihood:            -1.0993e+06\n",
      "converged:                       True   LL-Null:                   -8.0149e+05\n",
      "Covariance Type:            nonrobust   LLR p-value:                     1.000\n",
      "=====================================================================================\n",
      "                        coef    std err          z      P>|z|      [0.025      0.975]\n",
      "-------------------------------------------------------------------------------------\n",
      "동일지역여부                0.0329      0.002     20.045      0.000       0.030       0.036\n",
      "남편무직여부               -0.0066      0.002     -3.895      0.000      -0.010      -0.003\n",
      "아내무직여부                0.0946      0.002     55.448      0.000       0.091       0.098\n",
      "연상혼여부                 0.0746      0.002     39.280      0.000       0.071       0.078\n",
      "아내연령제곱                0.1580      0.015     10.205      0.000       0.128       0.188\n",
      "아내대도시여부              -0.0366      0.002    -17.064      0.000      -0.041      -0.032\n",
      "남편대도시여부              -0.0289      0.002    -13.656      0.000      -0.033      -0.025\n",
      "아내고졸여부                0.1749      0.004     41.987      0.000       0.167       0.183\n",
      "아내대졸여부                0.5468      0.005    115.542      0.000       0.538       0.556\n",
      "아내대학원졸여부              1.1980      0.004    279.444      0.000       1.190       1.206\n",
      "아내수도권여부              -0.0550      0.002    -33.430      0.000      -0.058      -0.052\n",
      "아내연령                 -0.2178      0.019    -11.702      0.000      -0.254      -0.181\n",
      "1970 to 1975 (아내)     0.0036      0.003      1.407      0.160      -0.001       0.009\n",
      "1975 to 1980 (아내)    -0.0050      0.004     -1.215      0.224      -0.013       0.003\n",
      "1980 to 1985 (아내)    -0.0484      0.007     -6.471      0.000      -0.063      -0.034\n",
      "1985 to 1990 (아내)    -0.0810      0.010     -8.232      0.000      -0.100      -0.062\n",
      "1990 to 1995 (아내)    -0.0536      0.009     -5.783      0.000      -0.072      -0.035\n",
      "1995 to 2000 (아내)    -0.0288      0.005     -5.705      0.000      -0.039      -0.019\n",
      "15년여부                 0.0053      0.002      2.561      0.010       0.001       0.009\n",
      "16년여부                 0.0163      0.002      7.638      0.000       0.012       0.020\n",
      "17년여부                 0.0209      0.002      9.470      0.000       0.017       0.025\n",
      "18년여부                 0.0244      0.002     10.451      0.000       0.020       0.029\n",
      "19년여부                 0.0222      0.002      9.007      0.000       0.017       0.027\n",
      "20년여부                 0.0140      0.003      5.540      0.000       0.009       0.019\n",
      "21년여부                 0.0079      0.002      3.187      0.001       0.003       0.013\n",
      "1970 to 1975 (남편)    -0.0375      0.003    -14.913      0.000      -0.042      -0.033\n",
      "1975 to 1980 (남편)    -0.1069      0.004    -29.559      0.000      -0.114      -0.100\n",
      "1980 to 1985 (남편)    -0.2161      0.005    -41.860      0.000      -0.226      -0.206\n",
      "1985 to 1990 (남편)    -0.2184      0.005    -40.642      0.000      -0.229      -0.208\n",
      "1990 to 1995 (남편)    -0.0409      0.004    -10.473      0.000      -0.048      -0.033\n",
      "1995 to 2000 (남편)     0.0235      0.002     11.498      0.000       0.019       0.028\n",
      "=====================================================================================\n"
     ]
    }
   ],
   "source": [
    "features = df[year][['동일지역여부','남편무직여부','아내무직여부','연상혼여부','아내연령제곱',\n",
    "'아내대도시여부','남편대도시여부', '아내고졸여부', '아내대졸여부', '아내대학원졸여부', '아내수도권여부','아내연령',\n",
    " '1970 to 1975 (아내)','1975 to 1980 (아내)','1980 to 1985 (아내)', '1985 to 1990 (아내)','1990 to 1995 (아내)','1995 to 2000 (아내)', '15년여부', '16년여부', '17년여부', '18년여부', '19년여부', '20년여부', '21년여부',\n",
    "'1970 to 1975 (남편)', '1975 to 1980 (남편)','1980 to 1985 (남편)','1985 to 1990 (남편)','1990 to 1995 (남편)','1995 to 2000 (남편)']]\n",
    "hypogamy = df[year]['강혼여부']\n",
    "scaler = StandardScaler()\n",
    "features = scaler.fit_transform(features)\n",
    "model = sm.Logit(hypogamy,features)\n",
    "results = model.fit()\n",
    "print(\"aic : \" + results.aic.__str__())\n",
    "print('강혼으로 로지스틱 회귀분석')\n",
    "print(results.summary(xname=['동일지역여부','남편무직여부','아내무직여부','연상혼여부','아내연령제곱',\n",
    "'아내대도시여부','남편대도시여부', '아내고졸여부', '아내대졸여부', '아내대학원졸여부', '아내수도권여부',  '아내연령',\n",
    " '1970 to 1975 (아내)','1975 to 1980 (아내)','1980 to 1985 (아내)', '1985 to 1990 (아내)','1990 to 1995 (아내)','1995 to 2000 (아내)', '15년여부', '16년여부', '17년여부', '18년여부', '19년여부', '20년여부', '21년여부',\n",
    "'1970 to 1975 (남편)', '1975 to 1980 (남편)','1980 to 1985 (남편)','1985 to 1990 (남편)','1990 to 1995 (남편)','1995 to 2000 (남편)']))\n",
    "\n",
    "# features = df[year][['동일지역 여부','남편 무직 여부','아내 무직 여부','연상혼 여부','아내연령제곱','소득차','결혼종류 차이 유무','아내 초혼 여부','남편 초혼 여부',\n",
    "# '아내 대도시 유무','남편 대도시 유무','남편소득수준','아내소득수준', '아내연령', '남편연령', '남편연령제곱', \n",
    "# '1970 to 1975 (아내)','1975 to 1980 (아내)','1980 to 1985 (아내)', '1985 to 1990 (아내)','1990 to 1995 (아내)','1995 to 2000 (아내)',\n",
    "# '1970 to 1975 (남편)', '1975 to 1980 (남편)','1980 to 1985 (남편)','1985 to 1990 (남편)','1990 to 1995 (남편)','1995 to 2000 (남편)']]"
   ]
  },
  {
   "cell_type": "code",
   "execution_count": 136,
   "metadata": {},
   "outputs": [
    {
     "name": "stdout",
     "output_type": "stream",
     "text": [
      "Optimization terminated successfully.\n",
      "         Current function value: 0.635441\n",
      "         Iterations 7\n",
      "aic : 2208070.4722326174\n",
      "강혼으로 로지스틱 회귀분석\n",
      "                           Logit Regression Results                           \n",
      "==============================================================================\n",
      "Dep. Variable:                   강혼여부   No. Observations:              1737401\n",
      "Model:                          Logit   Df Residuals:                  1737382\n",
      "Method:                           MLE   Df Model:                           18\n",
      "Date:                Tue, 16 Aug 2022   Pseudo R-squ.:                 -0.3775\n",
      "Time:                        16:58:17   Log-Likelihood:            -1.1040e+06\n",
      "converged:                       True   LL-Null:                   -8.0149e+05\n",
      "Covariance Type:            nonrobust   LLR p-value:                     1.000\n",
      "==============================================================================\n",
      "                 coef    std err          z      P>|z|      [0.025      0.975]\n",
      "------------------------------------------------------------------------------\n",
      "동일지역여부         0.0253      0.002     15.639      0.000       0.022       0.029\n",
      "남편무직여부        -0.0024      0.002     -1.445      0.148      -0.006       0.001\n",
      "아내무직여부         0.1056      0.002     62.480      0.000       0.102       0.109\n",
      "연상혼여부          0.0702      0.002     42.859      0.000       0.067       0.073\n",
      "아내연령제곱         0.2961      0.010     29.119      0.000       0.276       0.316\n",
      "아내대도시여부       -0.0432      0.002    -20.266      0.000      -0.047      -0.039\n",
      "남편대도시여부       -0.0288      0.002    -13.671      0.000      -0.033      -0.025\n",
      "아내고졸여부         0.1728      0.004     41.413      0.000       0.165       0.181\n",
      "아내대졸여부         0.5009      0.005    106.498      0.000       0.492       0.510\n",
      "아내대학원졸여부       1.1689      0.004    273.826      0.000       1.160       1.177\n",
      "아내수도권여부       -0.0617      0.002    -37.679      0.000      -0.065      -0.058\n",
      "아내연령          -0.2337      0.010    -23.350      0.000      -0.253      -0.214\n",
      "15년여부         -0.0007      0.002     -0.351      0.726      -0.005       0.003\n",
      "16년여부          0.0068      0.002      3.350      0.001       0.003       0.011\n",
      "17년여부          0.0109      0.002      5.453      0.000       0.007       0.015\n",
      "18년여부          0.0164      0.002      8.278      0.000       0.013       0.020\n",
      "19년여부          0.0179      0.002      9.125      0.000       0.014       0.022\n",
      "20년여부          0.0160      0.002      8.385      0.000       0.012       0.020\n",
      "21년여부          0.0149      0.002      8.117      0.000       0.011       0.018\n",
      "==============================================================================\n"
     ]
    }
   ],
   "source": [
    "features = df[year][['동일지역여부','남편무직여부','아내무직여부','연상혼여부','아내연령제곱',\n",
    "'아내대도시여부','남편대도시여부', '아내고졸여부', '아내대졸여부', '아내대학원졸여부', '아내수도권여부',  '아내연령',\n",
    " '15년여부', '16년여부', '17년여부', '18년여부', '19년여부', '20년여부', '21년여부']]\n",
    "hypogamy = df[year]['강혼여부']\n",
    "scaler = StandardScaler()\n",
    "features = scaler.fit_transform(features)\n",
    "model = sm.Logit(hypogamy,features)\n",
    "results = model.fit()\n",
    "print(\"aic : \" + results.aic.__str__())\n",
    "print('강혼으로 로지스틱 회귀분석')\n",
    "print(results.summary(xname=['동일지역여부','남편무직여부','아내무직여부','연상혼여부','아내연령제곱',\n",
    "'아내대도시여부','남편대도시여부', '아내고졸여부', '아내대졸여부', '아내대학원졸여부', '아내수도권여부',  '아내연령',\n",
    " '15년여부', '16년여부', '17년여부', '18년여부', '19년여부', '20년여부', '21년여부']))"
   ]
  },
  {
   "cell_type": "code",
   "execution_count": 137,
   "metadata": {},
   "outputs": [],
   "source": [
    "older_marriage_df = df[year][df[year]['연상혼여부']  == 1]"
   ]
  },
  {
   "cell_type": "markdown",
   "metadata": {},
   "source": [
    "##### 아내 수도권 vs 비수도권 -> 연상혼"
   ]
  },
  {
   "cell_type": "code",
   "execution_count": 138,
   "metadata": {},
   "outputs": [],
   "source": [
    "metropolitan = pd.crosstab(df[year]['아내수도권여부'], df[year]['연상혼여부'],normalize='all')"
   ]
  },
  {
   "cell_type": "code",
   "execution_count": 139,
   "metadata": {},
   "outputs": [
    {
     "data": {
      "text/html": [
       "<div>\n",
       "<style scoped>\n",
       "    .dataframe tbody tr th:only-of-type {\n",
       "        vertical-align: middle;\n",
       "    }\n",
       "\n",
       "    .dataframe tbody tr th {\n",
       "        vertical-align: top;\n",
       "    }\n",
       "\n",
       "    .dataframe thead th {\n",
       "        text-align: right;\n",
       "    }\n",
       "</style>\n",
       "<table border=\"1\" class=\"dataframe\">\n",
       "  <thead>\n",
       "    <tr style=\"text-align: right;\">\n",
       "      <th>연상혼여부</th>\n",
       "      <th>0.0</th>\n",
       "      <th>1.0</th>\n",
       "    </tr>\n",
       "    <tr>\n",
       "      <th>아내수도권여부</th>\n",
       "      <th></th>\n",
       "      <th></th>\n",
       "    </tr>\n",
       "  </thead>\n",
       "  <tbody>\n",
       "    <tr>\n",
       "      <th>0.0</th>\n",
       "      <td>0.378892</td>\n",
       "      <td>0.120398</td>\n",
       "    </tr>\n",
       "    <tr>\n",
       "      <th>1.0</th>\n",
       "      <td>0.371252</td>\n",
       "      <td>0.129458</td>\n",
       "    </tr>\n",
       "  </tbody>\n",
       "</table>\n",
       "</div>"
      ],
      "text/plain": [
       "연상혼여부         0.0       1.0\n",
       "아내수도권여부                    \n",
       "0.0      0.378892  0.120398\n",
       "1.0      0.371252  0.129458"
      ]
     },
     "execution_count": 139,
     "metadata": {},
     "output_type": "execute_result"
    }
   ],
   "source": [
    "metropolitan"
   ]
  },
  {
   "cell_type": "code",
   "execution_count": 140,
   "metadata": {},
   "outputs": [
    {
     "data": {
      "text/plain": [
       "<AxesSubplot:xlabel='연상혼여부', ylabel='아내수도권여부'>"
      ]
     },
     "execution_count": 140,
     "metadata": {},
     "output_type": "execute_result"
    },
    {
     "data": {
      "image/png": "[encoded data removed]",
      "text/plain": [
       "<Figure size 432x288 with 2 Axes>"
      ]
     },
     "metadata": {
      "needs_background": "light"
     },
     "output_type": "display_data"
    }
   ],
   "source": [
    "sns.heatmap(metropolitan)"
   ]
  },
  {
   "cell_type": "markdown",
   "metadata": {},
   "source": [
    "##### 남편 수도권 vs 비수도권 -> 연상혼"
   ]
  },
  {
   "cell_type": "code",
   "execution_count": 141,
   "metadata": {},
   "outputs": [
    {
     "data": {
      "text/html": [
       "<div>\n",
       "<style scoped>\n",
       "    .dataframe tbody tr th:only-of-type {\n",
       "        vertical-align: middle;\n",
       "    }\n",
       "\n",
       "    .dataframe tbody tr th {\n",
       "        vertical-align: top;\n",
       "    }\n",
       "\n",
       "    .dataframe thead th {\n",
       "        text-align: right;\n",
       "    }\n",
       "</style>\n",
       "<table border=\"1\" class=\"dataframe\">\n",
       "  <thead>\n",
       "    <tr style=\"text-align: right;\">\n",
       "      <th>연상혼여부</th>\n",
       "      <th>0.0</th>\n",
       "      <th>1.0</th>\n",
       "    </tr>\n",
       "    <tr>\n",
       "      <th>남편수도권여부</th>\n",
       "      <th></th>\n",
       "      <th></th>\n",
       "    </tr>\n",
       "  </thead>\n",
       "  <tbody>\n",
       "    <tr>\n",
       "      <th>0.0</th>\n",
       "      <td>0.366378</td>\n",
       "      <td>0.122839</td>\n",
       "    </tr>\n",
       "    <tr>\n",
       "      <th>1.0</th>\n",
       "      <td>0.383766</td>\n",
       "      <td>0.127017</td>\n",
       "    </tr>\n",
       "  </tbody>\n",
       "</table>\n",
       "</div>"
      ],
      "text/plain": [
       "연상혼여부         0.0       1.0\n",
       "남편수도권여부                    \n",
       "0.0      0.366378  0.122839\n",
       "1.0      0.383766  0.127017"
      ]
     },
     "execution_count": 141,
     "metadata": {},
     "output_type": "execute_result"
    }
   ],
   "source": [
    "metropolitan = pd.crosstab(df[year]['남편수도권여부'], df[year]['연상혼여부'],normalize='all')\n",
    "\n",
    "metropolitan"
   ]
  },
  {
   "cell_type": "code",
   "execution_count": 142,
   "metadata": {},
   "outputs": [
    {
     "data": {
      "text/plain": [
       "<AxesSubplot:xlabel='연상혼여부', ylabel='남편수도권여부'>"
      ]
     },
     "execution_count": 142,
     "metadata": {},
     "output_type": "execute_result"
    },
    {
     "data": {
      "image/png": "[encoded data removed]",
      "text/plain": [
       "<Figure size 432x288 with 2 Axes>"
      ]
     },
     "metadata": {
      "needs_background": "light"
     },
     "output_type": "display_data"
    }
   ],
   "source": [
    "sns.heatmap(metropolitan)"
   ]
  },
  {
   "cell_type": "markdown",
   "metadata": {},
   "source": [
    "##### 강혼 <-> 연상혼 (모델 x, 따로)"
   ]
  },
  {
   "cell_type": "code",
   "execution_count": 143,
   "metadata": {},
   "outputs": [],
   "source": [
    "hypogamy = pd.crosstab(df[year]['강혼여부'], df[year]['연상혼여부'],normalize='all')"
   ]
  },
  {
   "cell_type": "code",
   "execution_count": 144,
   "metadata": {},
   "outputs": [
    {
     "data": {
      "text/html": [
       "<div>\n",
       "<style scoped>\n",
       "    .dataframe tbody tr th:only-of-type {\n",
       "        vertical-align: middle;\n",
       "    }\n",
       "\n",
       "    .dataframe tbody tr th {\n",
       "        vertical-align: top;\n",
       "    }\n",
       "\n",
       "    .dataframe thead th {\n",
       "        text-align: right;\n",
       "    }\n",
       "</style>\n",
       "<table border=\"1\" class=\"dataframe\">\n",
       "  <thead>\n",
       "    <tr style=\"text-align: right;\">\n",
       "      <th>연상혼여부</th>\n",
       "      <th>0.0</th>\n",
       "      <th>1.0</th>\n",
       "    </tr>\n",
       "    <tr>\n",
       "      <th>강혼여부</th>\n",
       "      <th></th>\n",
       "      <th></th>\n",
       "    </tr>\n",
       "  </thead>\n",
       "  <tbody>\n",
       "    <tr>\n",
       "      <th>0.0</th>\n",
       "      <td>0.626588</td>\n",
       "      <td>0.199961</td>\n",
       "    </tr>\n",
       "    <tr>\n",
       "      <th>1.0</th>\n",
       "      <td>0.123556</td>\n",
       "      <td>0.049895</td>\n",
       "    </tr>\n",
       "  </tbody>\n",
       "</table>\n",
       "</div>"
      ],
      "text/plain": [
       "연상혼여부       0.0       1.0\n",
       "강혼여부                     \n",
       "0.0    0.626588  0.199961\n",
       "1.0    0.123556  0.049895"
      ]
     },
     "execution_count": 144,
     "metadata": {},
     "output_type": "execute_result"
    }
   ],
   "source": [
    "hypogamy"
   ]
  },
  {
   "cell_type": "code",
   "execution_count": 145,
   "metadata": {},
   "outputs": [
    {
     "data": {
      "text/plain": [
       "<AxesSubplot:xlabel='연상혼여부', ylabel='강혼여부'>"
      ]
     },
     "execution_count": 145,
     "metadata": {},
     "output_type": "execute_result"
    },
    {
     "data": {
      "image/png": "[encoded data removed]",
      "text/plain": [
       "<Figure size 432x288 with 2 Axes>"
      ]
     },
     "metadata": {
      "needs_background": "light"
     },
     "output_type": "display_data"
    }
   ],
   "source": [
    "sns.heatmap(hypogamy)"
   ]
  },
  {
   "cell_type": "markdown",
   "metadata": {},
   "source": [
    "##### 연상혼 <-> 지역차"
   ]
  },
  {
   "cell_type": "code",
   "execution_count": 146,
   "metadata": {},
   "outputs": [
    {
     "data": {
      "text/html": [
       "<div>\n",
       "<style scoped>\n",
       "    .dataframe tbody tr th:only-of-type {\n",
       "        vertical-align: middle;\n",
       "    }\n",
       "\n",
       "    .dataframe tbody tr th {\n",
       "        vertical-align: top;\n",
       "    }\n",
       "\n",
       "    .dataframe thead th {\n",
       "        text-align: right;\n",
       "    }\n",
       "</style>\n",
       "<table border=\"1\" class=\"dataframe\">\n",
       "  <thead>\n",
       "    <tr style=\"text-align: right;\">\n",
       "      <th>연상혼여부</th>\n",
       "      <th>0.0</th>\n",
       "      <th>1.0</th>\n",
       "    </tr>\n",
       "    <tr>\n",
       "      <th>동일지역여부</th>\n",
       "      <th></th>\n",
       "      <th></th>\n",
       "    </tr>\n",
       "  </thead>\n",
       "  <tbody>\n",
       "    <tr>\n",
       "      <th>0.0</th>\n",
       "      <td>0.211940</td>\n",
       "      <td>0.064425</td>\n",
       "    </tr>\n",
       "    <tr>\n",
       "      <th>1.0</th>\n",
       "      <td>0.538204</td>\n",
       "      <td>0.185431</td>\n",
       "    </tr>\n",
       "  </tbody>\n",
       "</table>\n",
       "</div>"
      ],
      "text/plain": [
       "연상혼여부        0.0       1.0\n",
       "동일지역여부                    \n",
       "0.0     0.211940  0.064425\n",
       "1.0     0.538204  0.185431"
      ]
     },
     "execution_count": 146,
     "metadata": {},
     "output_type": "execute_result"
    }
   ],
   "source": [
    "pd.crosstab(df[year]['동일지역여부'], df[year]['연상혼여부'], normalize='all')\n"
   ]
  },
  {
   "cell_type": "markdown",
   "metadata": {},
   "source": [
    "##### 여성 학력과 연상혼"
   ]
  },
  {
   "cell_type": "code",
   "execution_count": 147,
   "metadata": {},
   "outputs": [
    {
     "data": {
      "text/plain": [
       "아내고졸여부  아내대졸여부  아내대학원졸여부\n",
       "0.0     1.0     0.0         0.618678\n",
       "1.0     0.0     0.0         0.266669\n",
       "0.0     0.0     1.0         0.077035\n",
       "                0.0         0.037618\n",
       "dtype: float64"
      ]
     },
     "execution_count": 147,
     "metadata": {},
     "output_type": "execute_result"
    }
   ],
   "source": [
    "older_marriage_df.loc[:, ['아내고졸여부', '아내대졸여부', '아내대학원졸여부']].value_counts() / len(older_marriage_df)"
   ]
  },
  {
   "cell_type": "code",
   "execution_count": 148,
   "metadata": {},
   "outputs": [
    {
     "data": {
      "text/plain": [
       "0.06662883237663614"
      ]
     },
     "execution_count": 148,
     "metadata": {},
     "output_type": "execute_result"
    }
   ],
   "source": [
    "len(df[year][(df[year]['아내고졸여부'] == 1) & (df[year]['연상혼여부'] == 1)]) / len(df[year]['아내고졸여부'])"
   ]
  },
  {
   "cell_type": "code",
   "execution_count": 149,
   "metadata": {},
   "outputs": [
    {
     "data": {
      "text/plain": [
       "0.15458031853325743"
      ]
     },
     "execution_count": 149,
     "metadata": {},
     "output_type": "execute_result"
    }
   ],
   "source": [
    "len(df[year][(df[year]['아내대졸여부'] == 1) & (df[year]['연상혼여부'] == 1)]) / len(df[year]['아내대졸여부'])"
   ]
  },
  {
   "cell_type": "code",
   "execution_count": 150,
   "metadata": {},
   "outputs": [
    {
     "data": {
      "text/plain": [
       "0.019247715409395988"
      ]
     },
     "execution_count": 150,
     "metadata": {},
     "output_type": "execute_result"
    }
   ],
   "source": [
    "len(df[year][(df[year]['아내대학원졸여부'] == 1) & (df[year]['연상혼여부'] == 1)]) / len(df[year]['아내대학원졸여부'])"
   ]
  },
  {
   "cell_type": "markdown",
   "metadata": {},
   "source": [
    "##### 결혼 종류와 연상혼"
   ]
  },
  {
   "cell_type": "code",
   "execution_count": 151,
   "metadata": {},
   "outputs": [
    {
     "data": {
      "text/html": [
       "<div>\n",
       "<style scoped>\n",
       "    .dataframe tbody tr th:only-of-type {\n",
       "        vertical-align: middle;\n",
       "    }\n",
       "\n",
       "    .dataframe tbody tr th {\n",
       "        vertical-align: top;\n",
       "    }\n",
       "\n",
       "    .dataframe thead th {\n",
       "        text-align: right;\n",
       "    }\n",
       "</style>\n",
       "<table border=\"1\" class=\"dataframe\">\n",
       "  <thead>\n",
       "    <tr style=\"text-align: right;\">\n",
       "      <th>아내초혼여부</th>\n",
       "      <th>0.0</th>\n",
       "      <th>1.0</th>\n",
       "    </tr>\n",
       "    <tr>\n",
       "      <th>남편초혼여부</th>\n",
       "      <th></th>\n",
       "      <th></th>\n",
       "    </tr>\n",
       "  </thead>\n",
       "  <tbody>\n",
       "    <tr>\n",
       "      <th>0.0</th>\n",
       "      <td>0.105006</td>\n",
       "      <td>0.022347</td>\n",
       "    </tr>\n",
       "    <tr>\n",
       "      <th>1.0</th>\n",
       "      <td>0.098758</td>\n",
       "      <td>0.773889</td>\n",
       "    </tr>\n",
       "  </tbody>\n",
       "</table>\n",
       "</div>"
      ],
      "text/plain": [
       "아내초혼여부       0.0       1.0\n",
       "남편초혼여부                    \n",
       "0.0     0.105006  0.022347\n",
       "1.0     0.098758  0.773889"
      ]
     },
     "execution_count": 151,
     "metadata": {},
     "output_type": "execute_result"
    }
   ],
   "source": [
    "pd.crosstab(older_marriage_df['남편초혼여부'], older_marriage_df['아내초혼여부'], normalize='all')"
   ]
  },
  {
   "cell_type": "markdown",
   "metadata": {},
   "source": [
    "##### 연상혼 중 수도권 비율"
   ]
  },
  {
   "cell_type": "code",
   "execution_count": 152,
   "metadata": {},
   "outputs": [
    {
     "data": {
      "text/html": [
       "<div>\n",
       "<style scoped>\n",
       "    .dataframe tbody tr th:only-of-type {\n",
       "        vertical-align: middle;\n",
       "    }\n",
       "\n",
       "    .dataframe tbody tr th {\n",
       "        vertical-align: top;\n",
       "    }\n",
       "\n",
       "    .dataframe thead th {\n",
       "        text-align: right;\n",
       "    }\n",
       "</style>\n",
       "<table border=\"1\" class=\"dataframe\">\n",
       "  <thead>\n",
       "    <tr style=\"text-align: right;\">\n",
       "      <th>남편수도권여부</th>\n",
       "      <th>0.0</th>\n",
       "      <th>1.0</th>\n",
       "    </tr>\n",
       "    <tr>\n",
       "      <th>아내수도권여부</th>\n",
       "      <th></th>\n",
       "      <th></th>\n",
       "    </tr>\n",
       "  </thead>\n",
       "  <tbody>\n",
       "    <tr>\n",
       "      <th>0.0</th>\n",
       "      <td>0.439235</td>\n",
       "      <td>0.042635</td>\n",
       "    </tr>\n",
       "    <tr>\n",
       "      <th>1.0</th>\n",
       "      <td>0.052405</td>\n",
       "      <td>0.465724</td>\n",
       "    </tr>\n",
       "  </tbody>\n",
       "</table>\n",
       "</div>"
      ],
      "text/plain": [
       "남편수도권여부       0.0       1.0\n",
       "아내수도권여부                    \n",
       "0.0      0.439235  0.042635\n",
       "1.0      0.052405  0.465724"
      ]
     },
     "execution_count": 152,
     "metadata": {},
     "output_type": "execute_result"
    }
   ],
   "source": [
    "pd.crosstab(older_marriage_df['아내수도권여부'], older_marriage_df['남편수도권여부'], normalize='all')\n",
    "\n",
    "# 남편이나 아내 중 한 명만 수도권 거주 -> 거의 없음\n",
    "# 둘다 수도권 거주 or 둘다 수도권 비거주"
   ]
  },
  {
   "cell_type": "markdown",
   "metadata": {},
   "source": [
    "##### 수도권 / 비수도권 전체 비율"
   ]
  },
  {
   "cell_type": "code",
   "execution_count": 153,
   "metadata": {},
   "outputs": [],
   "source": [
    "metropolitan = df[year][(df[year]['아내수도권여부'] == 1) | (df[year]['남편수도권여부'] == 1)]\n"
   ]
  },
  {
   "cell_type": "code",
   "execution_count": 154,
   "metadata": {},
   "outputs": [
    {
     "data": {
      "text/plain": [
       "0.5545156241995947"
      ]
     },
     "execution_count": 154,
     "metadata": {},
     "output_type": "execute_result"
    }
   ],
   "source": [
    "len(metropolitan) / len(df[year])\n",
    "\n",
    "# 전체 결혼건 수 대비 남편이나 아내 중 1인 이상 수도권 거주 비율 약 55%"
   ]
  },
  {
   "cell_type": "code",
   "execution_count": 155,
   "metadata": {},
   "outputs": [],
   "source": [
    "metropolitan = df[year][(df[year]['아내수도권여부'] == 1) & (df[year]['남편수도권여부'] == 1)]"
   ]
  },
  {
   "cell_type": "code",
   "execution_count": 156,
   "metadata": {},
   "outputs": [
    {
     "data": {
      "text/plain": [
       "0.4569768291833607"
      ]
     },
     "execution_count": 156,
     "metadata": {},
     "output_type": "execute_result"
    }
   ],
   "source": [
    "len(metropolitan) / len(df[year])\n",
    "\n",
    "# 전체 결혼건 수 대비 남편이나 아내 둘 다 수도권 거주 비율 약 45%"
   ]
  },
  {
   "cell_type": "markdown",
   "metadata": {},
   "source": [
    "##### 아내 연령대에 따른 연상혼 비율"
   ]
  },
  {
   "cell_type": "code",
   "execution_count": 157,
   "metadata": {},
   "outputs": [],
   "source": [
    "step = 5\n",
    "min = 20\n",
    "max = 35\n",
    "\n",
    "for i in range(min, max, step):\n",
    "    df[year].loc[df[year]['아내연령'].between(i, i + step), \"아내연령대\"] = str(i) + \" ~ \" + str(i + step - 1) + \"세\"\n",
    "\n",
    "df[year].loc[df[year]['아내연령'] >= max, \"아내연령대\"] = str(max) + \"세 이상\"\n",
    "df[year].loc[df[year]['아내연령'] < min, \"아내연령대\"] = str(min) + \"세 미만\""
   ]
  },
  {
   "cell_type": "code",
   "execution_count": 158,
   "metadata": {},
   "outputs": [
    {
     "data": {
      "text/plain": [
       "20 ~ 24세    0.025379\n",
       "20세 미만      0.002163\n",
       "25 ~ 29세    0.238461\n",
       "30 ~ 34세    0.388641\n",
       "35세 이상      0.345356\n",
       "Name: 아내연령대, dtype: float64"
      ]
     },
     "execution_count": 158,
     "metadata": {},
     "output_type": "execute_result"
    }
   ],
   "source": [
    "df[year][df[year]['연상혼여부'] == 1]['아내연령대'].value_counts().sort_index() / len(df[year][df[year]['연상혼여부'] == 1])\n",
    "\n",
    "# 연상혼 건수 중 30 ~34세 여성이 약 38%의 비중을 차지"
   ]
  },
  {
   "cell_type": "markdown",
   "metadata": {},
   "source": [
    "##### 남성 연령대에 따른 연상혼 비율"
   ]
  },
  {
   "cell_type": "code",
   "execution_count": 159,
   "metadata": {},
   "outputs": [],
   "source": [
    "step = 5\n",
    "min = 20\n",
    "max = 35\n",
    "\n",
    "for i in range(min, max, step):\n",
    "    df[year].loc[df[year]['남편연령'].between(i, i + step), \"남편연령대\"] = str(i) + \" ~ \" + str(i + step - 1) + \"세\"\n",
    "\n",
    "df[year].loc[df[year]['남편연령'] >= max, \"남편연령대\"] = str(max) + \"세 이상\"\n",
    "df[year].loc[df[year]['남편연령'] < min, \"남편연령대\"] = str(min) + \"세 미만\""
   ]
  },
  {
   "cell_type": "code",
   "execution_count": 160,
   "metadata": {},
   "outputs": [
    {
     "data": {
      "text/plain": [
       "20 ~ 24세    0.048924\n",
       "20세 미만      0.004563\n",
       "25 ~ 29세    0.355609\n",
       "30 ~ 34세    0.338604\n",
       "35세 이상      0.252299\n",
       "Name: 남편연령대, dtype: float64"
      ]
     },
     "execution_count": 160,
     "metadata": {},
     "output_type": "execute_result"
    }
   ],
   "source": [
    "df[year][df[year]['연상혼여부'] == 1]['남편연령대'].value_counts().sort_index() / len(df[year][df[year]['연상혼여부'] == 1])\n",
    "\n",
    "# 연상혼 건수 중 25 ~29세 여성이 약 35%의 비중을 차지"
   ]
  },
  {
   "cell_type": "markdown",
   "metadata": {},
   "source": [
    "##### 소득차 관계와 연상혼"
   ]
  },
  {
   "cell_type": "code",
   "execution_count": 161,
   "metadata": {},
   "outputs": [
    {
     "name": "stderr",
     "output_type": "stream",
     "text": [
      "C:\\Users\\science7\\AppData\\Local\\Temp\\ipykernel_1236\\2309250720.py:5: SettingWithCopyWarning: \n",
      "A value is trying to be set on a copy of a slice from a DataFrame.\n",
      "Try using .loc[row_indexer,col_indexer] = value instead\n",
      "\n",
      "See the caveats in the documentation: https://pandas.pydata.org/pandas-docs/stable/user_guide/indexing.html#returning-a-view-versus-a-copy\n",
      "  older_marriage_df.loc[older_marriage_df['아내소득수준'] > older_marriage_df['남편소득수준'], \"소득차관계\"] = \"아내 > 남편\"\n"
     ]
    }
   ],
   "source": [
    "df[year].loc[df[year]['아내소득수준'] > df[year]['남편소득수준'], \"소득차관계\"] = \"아내 > 남편\"\n",
    "df[year].loc[df[year]['아내소득수준'] == df[year]['남편소득수준'], \"소득차관계\"] = \"아내 == 남편\"\n",
    "df[year].loc[df[year]['아내소득수준'] < df[year]['남편소득수준'], \"소득차관계\"] = \"아내 < 남편\"\n",
    "\n",
    "older_marriage_df.loc[older_marriage_df['아내소득수준'] > older_marriage_df['남편소득수준'], \"소득차관계\"] = \"아내 > 남편\"\n",
    "older_marriage_df.loc[older_marriage_df['아내소득수준'] == older_marriage_df['남편소득수준'], \"소득차관계\"] = \"아내 == 남편\"\n",
    "older_marriage_df.loc[older_marriage_df['아내소득수준'] < older_marriage_df['남편소득수준'], \"소득차관계\"] = \"아내 < 남편\""
   ]
  },
  {
   "cell_type": "code",
   "execution_count": 162,
   "metadata": {},
   "outputs": [
    {
     "data": {
      "text/plain": [
       "아내 < 남편     0.420219\n",
       "아내 == 남편    0.380908\n",
       "아내 > 남편     0.198874\n",
       "Name: 소득차관계, dtype: float64"
      ]
     },
     "execution_count": 162,
     "metadata": {},
     "output_type": "execute_result"
    }
   ],
   "source": [
    "older_marriage_df['소득차관계'].value_counts() / len(older_marriage_df)"
   ]
  },
  {
   "cell_type": "markdown",
   "metadata": {},
   "source": [
    "##### 교육수준차"
   ]
  },
  {
   "cell_type": "code",
   "execution_count": null,
   "metadata": {},
   "outputs": [],
   "source": []
  }
 ],
 "metadata": {
  "kernelspec": {
   "display_name": "Python 3.10.0 64-bit",
   "language": "python",
   "name": "python3"
  },
  "language_info": {
   "codemirror_mode": {
    "name": "ipython",
    "version": 3
   },
   "file_extension": ".py",
   "mimetype": "text/x-python",
   "name": "python",
   "nbconvert_exporter": "python",
   "pygments_lexer": "ipython3",
   "version": "3.10.0"
  },
  "orig_nbformat": 4,
  "vscode": {
   "interpreter": {
    "hash": "4781dfcd06b19865213d8add280530ec1eacc304293fd1a9158e87754f36ef5a"
   }
  }
 },
 "nbformat": 4,
 "nbformat_minor": 2
}
