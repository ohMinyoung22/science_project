{
 "cells": [
  {
   "cell_type": "code",
   "execution_count": 16,
   "metadata": {},
   "outputs": [],
   "source": [
    "import pandas as pd\n",
    "import matplotlib.pyplot as plt\n",
    "import seaborn as sns\n",
    "import scipy\n",
    "\n",
    "plt.rcParams['font.family'] = 'HYGraphic-Medium'"
   ]
  },
  {
   "cell_type": "code",
   "execution_count": 2,
   "metadata": {},
   "outputs": [
    {
     "name": "stderr",
     "output_type": "stream",
     "text": [
      "C:\\Users\\nexen\\AppData\\Local\\Temp\\ipykernel_19496\\3438226185.py:4: DtypeWarning: Columns (18) have mixed types. Specify dtype option on import or set low_memory=False.\n",
      "  df[i] = pd.read_csv(\"../data/csv_in_\" + str(i) + \".csv\")\n",
      "C:\\Users\\nexen\\AppData\\Local\\Temp\\ipykernel_19496\\3438226185.py:4: DtypeWarning: Columns (18) have mixed types. Specify dtype option on import or set low_memory=False.\n",
      "  df[i] = pd.read_csv(\"../data/csv_in_\" + str(i) + \".csv\")\n",
      "C:\\Users\\nexen\\AppData\\Local\\Temp\\ipykernel_19496\\3438226185.py:4: DtypeWarning: Columns (16) have mixed types. Specify dtype option on import or set low_memory=False.\n",
      "  df[i] = pd.read_csv(\"../data/csv_in_\" + str(i) + \".csv\")\n",
      "C:\\Users\\nexen\\AppData\\Local\\Temp\\ipykernel_19496\\3438226185.py:4: DtypeWarning: Columns (16) have mixed types. Specify dtype option on import or set low_memory=False.\n",
      "  df[i] = pd.read_csv(\"../data/csv_in_\" + str(i) + \".csv\")\n"
     ]
    }
   ],
   "source": [
    "df = {}\n",
    "\n",
    "for i in range(2010, 2022):\n",
    "    df[i] = pd.read_csv(\"../data/csv_in_\" + str(i) + \".csv\")\n",
    "    df[i].drop(labels=df[i][df[i]['아내지역코드'] > 39].index, inplace=True)\n",
    "    df[i].drop(labels=df[i][df[i]['남편지역코드'] > 39].index, inplace=True)\n",
    "    df[i].drop(labels=df[i][df[i]['아내직업코드'] == 99].index, inplace=True)"
   ]
  },
  {
   "cell_type": "code",
   "execution_count": 76,
   "metadata": {},
   "outputs": [],
   "source": [
    "for year in range(2010, 2022):\n",
    "    df[year].loc[df[year]['남편연령'] > df[year]['아내연령'], \"결혼 연령차 유형\"] = \"남성 연상혼\" \n",
    "    df[year].loc[df[year]['남편연령'] < df[year]['아내연령'], \"결혼 연령차 유형\"] = \"여성 연상혼\" \n",
    "    df[year].loc[df[year]['남편연령'].astype(int) == df[year]['아내연령'].astype(int), \"결혼 연령차 유형\"] = \"동갑혼\" \n",
    "\n",
    "    df[year].loc[df[year]['아내지역코드'].isin([11, 21, 22, 23, 24, 25]), \"아내 기준 대도시 유무\"] = \"대도시 거주\" \n",
    "    df[year].loc[~df[year]['아내지역코드'].isin([11, 21, 22, 23, 24, 25]), \"아내 기준 대도시 유무\"] = \"대도시 비거주\" \n",
    "\n",
    "    df[year].loc[df[year]['남편지역코드'].isin([11, 21, 22, 23, 24, 25]), \"남편 기준 대도시 유무\"] = \"대도시 거주\" \n",
    "    df[year].loc[~df[year]['남편지역코드'].isin([11, 21, 22, 23, 24, 25]), \"남편 기준 대도시 유무\"] = \"대도시 비거주\" \n",
    "    \n",
    "    df[year].loc[df[year][\"결혼 연령차 유형\"] == \"여성 연상혼\" , \"연상혼 여부\"] = 1\n",
    "    df[year].loc[~(df[year][\"결혼 연령차 유형\"] == \"여성 연상혼\"), \"연상혼 여부\"] = 0\n",
    "\n",
    "    df[year].loc[df[year]['아내교육코드'] > df[year]['남편교육코드'], \"강혼 여부\"] = 1\n",
    "    df[year].loc[~(df[year]['아내교육코드'] > df[year]['남편교육코드']), \"강혼 여부\"] = 0\n",
    "\n",
    "    #여성 대도시 거주 유무와 결혼 연령차 유형 연관성 높음\n",
    "    #남편 대도시 거주 유무와 결혼 연령차 유형 2021 제외 연관성 높음\n",
    "\n",
    "    years = [2018, 2019, 2020]"
   ]
  },
  {
   "cell_type": "markdown",
   "metadata": {},
   "source": [
    "### 연상혼 / 소득 관계"
   ]
  },
  {
   "cell_type": "code",
   "execution_count": 78,
   "metadata": {},
   "outputs": [
    {
     "name": "stdout",
     "output_type": "stream",
     "text": [
      "-------------- 2018 연도 연상혼 여부 - 여성 소득 카이제곱 검정 -----------------\n",
      "c-val : 449.72506454015104\n",
      "P-val : 4.2349666162336154e-92\n",
      "dof : 8\n",
      "-------------- 2019 연도 연상혼 여부 - 여성 소득 카이제곱 검정 -----------------\n",
      "c-val : 287.5818386246488\n",
      "P-val : 1.8052292020653766e-57\n",
      "dof : 8\n",
      "-------------- 2020 연도 연상혼 여부 - 여성 소득 카이제곱 검정 -----------------\n",
      "c-val : 223.3776808645135\n",
      "P-val : 7.442992539024987e-44\n",
      "dof : 8\n"
     ]
    }
   ],
   "source": [
    "for y in years:\n",
    "    crosstab = pd.crosstab(df[y]['아내직업코드'], df[y][\"연상혼 여부\"])\n",
    "    c, p, dof, expected = scipy.stats.chi2_contingency(crosstab)\n",
    "\n",
    "    print(f\"-------------- {y} 연도 연상혼 여부 - 여성 소득 카이제곱 검정 -----------------\")\n",
    "    print(\"c-val : \" + str(c))\n",
    "    print(\"P-val : \" + str(p))\n",
    "    print(\"dof : \" + str(dof))\n"
   ]
  },
  {
   "cell_type": "code",
   "execution_count": null,
   "metadata": {},
   "outputs": [],
   "source": [
    "\n",
    "for y in range(2010, 2022):\n",
    "    plt.figure()\n",
    "    crosstab = pd.crosstab(df[y]['아내직업코드'], df[y][\"연상혼 여부\"], normalize='columns')\n",
    "    crosstab.plot.bar()\n",
    "    plt.title(str(y))\n",
    "\n",
    "# 강혼과 고소득은 양의 상관관계라고 보기 힘듦 \n"
   ]
  },
  {
   "cell_type": "markdown",
   "metadata": {},
   "source": [
    "### 대도시 거주 / 소득 관계"
   ]
  },
  {
   "cell_type": "code",
   "execution_count": null,
   "metadata": {},
   "outputs": [],
   "source": [
    "\n",
    "# 대체적으로 고소득 (1, 2, 3) -> 대도시 거주 여성 중 퍼센테이지 높음\n",
    "# 각각 대도시 거주 중 / 대도시 비거주 중 해당 직업 퍼센테이지\n",
    "\n",
    "for y in range(2010, 2022):\n",
    "    plt.figure()\n",
    "    crosstab = pd.crosstab(df[y]['아내직업코드'], df[y][\"아내 기준 대도시 유무\"], normalize='columns')\n",
    "    crosstab.plot.bar()\n",
    "    plt.title(str(y))\n"
   ]
  },
  {
   "cell_type": "code",
   "execution_count": 71,
   "metadata": {},
   "outputs": [
    {
     "name": "stdout",
     "output_type": "stream",
     "text": [
      "-------------- 2018 연도 아내 대도시 거주 여부 - 소득 카이제곱 검정 -----------------\n",
      "c-val : 1788.6536081792397\n",
      "P-val : 0.0\n",
      "dof : 8\n",
      "-------------- 2019 연도 아내 대도시 거주 여부 - 소득 카이제곱 검정 -----------------\n",
      "c-val : 1566.198287470004\n",
      "P-val : 0.0\n",
      "dof : 8\n",
      "-------------- 2020 연도 아내 대도시 거주 여부 - 소득 카이제곱 검정 -----------------\n",
      "c-val : 1441.0608715358505\n",
      "P-val : 7.485536341892138e-306\n",
      "dof : 8\n"
     ]
    }
   ],
   "source": [
    "for y in years:\n",
    "    crosstab = pd.crosstab(df[y]['아내직업코드'], df[y][\"아내 기준 대도시 유무\"])\n",
    "    c, p, dof, expected = scipy.stats.chi2_contingency(crosstab)\n",
    "\n",
    "    print(f\"-------------- {y} 연도 아내 대도시 거주 여부 - 소득 카이제곱 검정 -----------------\")\n",
    "    print(\"c-val : \" + str(c))\n",
    "    print(\"P-val : \" + str(p))\n",
    "    print(\"dof : \" + str(dof))"
   ]
  },
  {
   "cell_type": "code",
   "execution_count": null,
   "metadata": {},
   "outputs": [],
   "source": [
    "# 직업 코드 1 -> 대도시 비거주 우세 / 2, 3 대도시 거주 우세\n",
    "# 각각 대도시 거주 중 / 대도시 비거주 중 해당 직업 퍼센테이지\n",
    "\n",
    "for y in range(2010, 2022):\n",
    "    plt.figure()\n",
    "    crosstab = pd.crosstab(df[y]['남편직업코드'], df[y][\"남편 기준 대도시 유무\"], normalize='columns')\n",
    "    crosstab.plot.bar()\n",
    "    plt.title(str(y))\n",
    "\n"
   ]
  },
  {
   "cell_type": "code",
   "execution_count": 75,
   "metadata": {},
   "outputs": [
    {
     "name": "stdout",
     "output_type": "stream",
     "text": [
      "-------------- 2018 연도 남편 대도시 거주 여부 - 남편 소득 카이제곱 검정 -----------------\n",
      "c-val : 3825.9800477523645\n",
      "P-val : 0.0\n",
      "dof : 9\n",
      "-------------- 2019 연도 남편 대도시 거주 여부 - 남편 소득 카이제곱 검정 -----------------\n",
      "c-val : 3603.6508923051283\n",
      "P-val : 0.0\n",
      "dof : 9\n",
      "-------------- 2020 연도 남편 대도시 거주 여부 - 남편 소득 카이제곱 검정 -----------------\n",
      "c-val : 3139.9417216175807\n",
      "P-val : 0.0\n",
      "dof : 9\n"
     ]
    }
   ],
   "source": [
    "for y in years:\n",
    "    crosstab = pd.crosstab(df[y]['남편직업코드'], df[y][\"남편 기준 대도시 유무\"])\n",
    "    c, p, dof, expected = scipy.stats.chi2_contingency(crosstab)\n",
    "\n",
    "    print(f\"-------------- {y} 연도 남편 대도시 거주 여부 - 남편 소득 카이제곱 검정 -----------------\")\n",
    "    print(\"c-val : \" + str(c))\n",
    "    print(\"P-val : \" + str(p))\n",
    "    print(\"dof : \" + str(dof))"
   ]
  },
  {
   "cell_type": "markdown",
   "metadata": {},
   "source": [
    "### 연상혼 - 소득 관계"
   ]
  },
  {
   "cell_type": "code",
   "execution_count": null,
   "metadata": {},
   "outputs": [],
   "source": [
    "for y in years:\n",
    "    crosstab = pd.crosstab(df[y]['남편직업코드'], df[y][\"남편 기준 대도시 유무\"])\n",
    "    c, p, dof, expected = scipy.stats.chi2_contingency(crosstab)\n",
    "\n",
    "    print(f\"-------------- {y} 연도 남편 대도시 거주 여부 - 남편 소득 카이제곱 검정 -----------------\")\n",
    "    print(\"c-val : \" + str(c))\n",
    "    print(\"P-val : \" + str(p))\n",
    "    print(\"dof : \" + str(dof))"
   ]
  }
 ],
 "metadata": {
  "kernelspec": {
   "display_name": "Python 3.10.0 64-bit",
   "language": "python",
   "name": "python3"
  },
  "language_info": {
   "codemirror_mode": {
    "name": "ipython",
    "version": 3
   },
   "file_extension": ".py",
   "mimetype": "text/x-python",
   "name": "python",
   "nbconvert_exporter": "python",
   "pygments_lexer": "ipython3",
   "version": "3.10.0"
  },
  "orig_nbformat": 4,
  "vscode": {
   "interpreter": {
    "hash": "6491f2daa2ef10fef3de35be2aa54649989df64b9b0e9017ecda644db8c2d92e"
   }
  }
 },
 "nbformat": 4,
 "nbformat_minor": 2
}
