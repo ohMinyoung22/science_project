{
 "cells": [
  {
   "cell_type": "code",
   "execution_count": 38,
   "metadata": {},
   "outputs": [],
   "source": [
    "import pandas as pd\n",
    "import matplotlib.pyplot as plt\n",
    "import seaborn as sns\n",
    "import scipy"
   ]
  },
  {
   "cell_type": "code",
   "execution_count": 62,
   "metadata": {},
   "outputs": [
    {
     "name": "stderr",
     "output_type": "stream",
     "text": [
      "C:\\Users\\science7\\AppData\\Local\\Temp\\ipykernel_4792\\1271597377.py:4: DtypeWarning: Columns (18) have mixed types. Specify dtype option on import or set low_memory=False.\n",
      "  df[i] = pd.read_csv(\"../data/csv_in_\" + str(i) + \".csv\")\n",
      "C:\\Users\\science7\\AppData\\Local\\Temp\\ipykernel_4792\\1271597377.py:4: DtypeWarning: Columns (18) have mixed types. Specify dtype option on import or set low_memory=False.\n",
      "  df[i] = pd.read_csv(\"../data/csv_in_\" + str(i) + \".csv\")\n",
      "C:\\Users\\science7\\AppData\\Local\\Temp\\ipykernel_4792\\1271597377.py:4: DtypeWarning: Columns (16) have mixed types. Specify dtype option on import or set low_memory=False.\n",
      "  df[i] = pd.read_csv(\"../data/csv_in_\" + str(i) + \".csv\")\n",
      "C:\\Users\\science7\\AppData\\Local\\Temp\\ipykernel_4792\\1271597377.py:4: DtypeWarning: Columns (16) have mixed types. Specify dtype option on import or set low_memory=False.\n",
      "  df[i] = pd.read_csv(\"../data/csv_in_\" + str(i) + \".csv\")\n"
     ]
    }
   ],
   "source": [
    "df = {}\n",
    "\n",
    "for i in range(2010, 2022):\n",
    "    df[i] = pd.read_csv(\"../data/csv_in_\" + str(i) + \".csv\")\n",
    "    df[i].drop(labels=df[i][df[i]['아내지역코드'] > 39].index, inplace=True)\n",
    "    df[i].drop(labels=df[i][df[i]['남편지역코드'] > 39].index, inplace=True)"
   ]
  },
  {
   "cell_type": "code",
   "execution_count": 63,
   "metadata": {},
   "outputs": [],
   "source": [
    "for year in range(2010, 2022):\n",
    "    df[year].loc[df[year]['남편연령'] > df[year]['아내연령'], \"결혼 연령차 유형\"] = \"남성 연상혼\" \n",
    "    df[year].loc[df[year]['남편연령'] < df[year]['아내연령'], \"결혼 연령차 유형\"] = \"여성 연상혼\" \n",
    "    df[year].loc[df[year]['남편연령'].astype(int) == df[year]['아내연령'].astype(int), \"결혼 연령차 유형\"] = \"동갑혼\" \n",
    "\n",
    "    df[year].loc[df[year]['아내지역코드'].isin([11, 21, 22, 23, 24, 25]), \"아내 기준 대도시 유무\"] = \"대도시 거주\" \n",
    "    df[year].loc[~df[year]['아내지역코드'].isin([11, 21, 22, 23, 24, 25]), \"아내 기준 대도시 유무\"] = \"대도시 비거주\" \n",
    "\n",
    "    df[year].loc[df[year]['남편지역코드'].isin([11, 21, 22, 23, 24, 25]), \"남편 기준 대도시 유무\"] = \"대도시 거주\" \n",
    "    df[year].loc[~df[year]['남편지역코드'].isin([11, 21, 22, 23, 24, 25]), \"남편 기준 대도시 유무\"] = \"대도시 비거주\" \n",
    "\n",
    "    #여성 대도시 거주 유무와 결혼 연령차 유형 연관성 높음"
   ]
  },
  {
   "cell_type": "code",
   "execution_count": 73,
   "metadata": {},
   "outputs": [],
   "source": [
    "crosstab_years = {}\n",
    "\n",
    "\n",
    "\n",
    "\n",
    "for year in range(2010, 2022):\n",
    "    crosstab_years[year] = pd.crosstab(df[year]['남편 기준 대도시 유무'], df[year]['결혼 연령차 유형'], margins=True)"
   ]
  },
  {
   "cell_type": "code",
   "execution_count": 82,
   "metadata": {},
   "outputs": [],
   "source": [
    "\n",
    "\n",
    "c, p, dof, expected = scipy.stats.chi2_contingency(crosstab_years[2018])"
   ]
  },
  {
   "cell_type": "code",
   "execution_count": 83,
   "metadata": {},
   "outputs": [
    {
     "name": "stdout",
     "output_type": "stream",
     "text": [
      "c-val : 40.7511968213106\n",
      "P-val : 3.241500286033096e-07\n",
      "c\\dof : 6\n"
     ]
    }
   ],
   "source": [
    "print(\"c-val : \" + str(c))\n",
    "print(\"P-val : \" + str(p))\n",
    "print(\"c\\dof : \" + str(dof) )"
   ]
  }
 ],
 "metadata": {
  "kernelspec": {
   "display_name": "Python 3.10.0 64-bit",
   "language": "python",
   "name": "python3"
  },
  "language_info": {
   "codemirror_mode": {
    "name": "ipython",
    "version": 3
   },
   "file_extension": ".py",
   "mimetype": "text/x-python",
   "name": "python",
   "nbconvert_exporter": "python",
   "pygments_lexer": "ipython3",
   "version": "3.10.0"
  },
  "orig_nbformat": 4,
  "vscode": {
   "interpreter": {
    "hash": "4781dfcd06b19865213d8add280530ec1eacc304293fd1a9158e87754f36ef5a"
   }
  }
 },
 "nbformat": 4,
 "nbformat_minor": 2
}
