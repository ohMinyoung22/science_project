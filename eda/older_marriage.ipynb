{
 "cells": [
  {
   "cell_type": "code",
   "execution_count": 2,
   "metadata": {},
   "outputs": [],
   "source": [
    "import pandas as pd\n",
    "import matplotlib.pyplot as plt\n",
    "import seaborn as sns\n",
    "import scipy\n",
    "import mpl_scatter_density # adds projection='scatter_density'\n",
    "from matplotlib.colors import LinearSegmentedColormap\n",
    "import numpy as np\n",
    "\n",
    "plt.rcParams['font.family'] = 'HYGraphic-Medium'"
   ]
  },
  {
   "cell_type": "code",
   "execution_count": 3,
   "metadata": {},
   "outputs": [
    {
     "name": "stderr",
     "output_type": "stream",
     "text": [
      "C:\\Users\\nexen\\AppData\\Local\\Temp\\ipykernel_27744\\82263401.py:4: DtypeWarning: Columns (18) have mixed types. Specify dtype option on import or set low_memory=False.\n",
      "  df[i] = pd.read_csv(\"../data/csv_in_\" + str(i) + \".csv\")\n",
      "C:\\Users\\nexen\\AppData\\Local\\Temp\\ipykernel_27744\\82263401.py:4: DtypeWarning: Columns (18) have mixed types. Specify dtype option on import or set low_memory=False.\n",
      "  df[i] = pd.read_csv(\"../data/csv_in_\" + str(i) + \".csv\")\n",
      "C:\\Users\\nexen\\AppData\\Local\\Temp\\ipykernel_27744\\82263401.py:4: DtypeWarning: Columns (16) have mixed types. Specify dtype option on import or set low_memory=False.\n",
      "  df[i] = pd.read_csv(\"../data/csv_in_\" + str(i) + \".csv\")\n",
      "C:\\Users\\nexen\\AppData\\Local\\Temp\\ipykernel_27744\\82263401.py:4: DtypeWarning: Columns (16) have mixed types. Specify dtype option on import or set low_memory=False.\n",
      "  df[i] = pd.read_csv(\"../data/csv_in_\" + str(i) + \".csv\")\n"
     ]
    }
   ],
   "source": [
    "df = {}\n",
    "\n",
    "for i in range(2010, 2022):\n",
    "    df[i] = pd.read_csv(\"../data/csv_in_\" + str(i) + \".csv\")\n",
    "    df[i].drop(labels=df[i][df[i]['아내지역코드'] > 39].index, inplace=True)\n",
    "    df[i].drop(labels=df[i][df[i]['남편지역코드'] > 39].index, inplace=True)\n",
    "    df[i].drop(labels=df[i][df[i]['아내직업코드'] == 99].index, inplace=True)\n",
    "\n",
    "mandic = {1:10015,2:5011,3:4833,5:3325.5,6:2582,7:3510,8:3539,9:2494,13:0}\n",
    "womandic = {1:8024,2:3136,3:3256,5:2119,6:2060,7:2156,8:2795,9:1897,13:0}\n",
    "\n",
    "for i in range(2010,2021):\n",
    "    df[i]['남편소득수준'] = df[i]['남편직업코드']\n",
    "    df[i]['아내소득수준'] = df[i]['아내직업코드']\n",
    "    for j in mandic.keys():\n",
    "        df[i]['남편소득수준'].replace(j,mandic[j], inplace=True)\n",
    "        df[i]['아내소득수준'].replace(j,womandic[j], inplace=True)"
   ]
  },
  {
   "cell_type": "code",
   "execution_count": 4,
   "metadata": {},
   "outputs": [
    {
     "data": {
      "text/html": [
       "<div>\n",
       "<style scoped>\n",
       "    .dataframe tbody tr th:only-of-type {\n",
       "        vertical-align: middle;\n",
       "    }\n",
       "\n",
       "    .dataframe tbody tr th {\n",
       "        vertical-align: top;\n",
       "    }\n",
       "\n",
       "    .dataframe thead th {\n",
       "        text-align: right;\n",
       "    }\n",
       "</style>\n",
       "<table border=\"1\" class=\"dataframe\">\n",
       "  <thead>\n",
       "    <tr style=\"text-align: right;\">\n",
       "      <th></th>\n",
       "      <th>신고연도</th>\n",
       "      <th>신고월</th>\n",
       "      <th>신고일</th>\n",
       "      <th>남편지역코드</th>\n",
       "      <th>아내지역코드</th>\n",
       "      <th>실제결혼연도</th>\n",
       "      <th>실제결혼월</th>\n",
       "      <th>남편직업코드</th>\n",
       "      <th>아내직업코드</th>\n",
       "      <th>남편교육코드</th>\n",
       "      <th>아내교육코드</th>\n",
       "      <th>남편결혼코드</th>\n",
       "      <th>아내결혼코드</th>\n",
       "      <th>남편연령</th>\n",
       "      <th>아내연령</th>\n",
       "      <th>남편국적구분코드</th>\n",
       "      <th>남편국적코드</th>\n",
       "      <th>아내국적구분코드</th>\n",
       "      <th>아내국적코드</th>\n",
       "    </tr>\n",
       "  </thead>\n",
       "  <tbody>\n",
       "    <tr>\n",
       "      <th>0</th>\n",
       "      <td>2019</td>\n",
       "      <td>11</td>\n",
       "      <td>19</td>\n",
       "      <td>31</td>\n",
       "      <td>31</td>\n",
       "      <td>2019</td>\n",
       "      <td>11</td>\n",
       "      <td>2</td>\n",
       "      <td>2</td>\n",
       "      <td>5</td>\n",
       "      <td>5</td>\n",
       "      <td>1</td>\n",
       "      <td>1</td>\n",
       "      <td>40.454</td>\n",
       "      <td>36.178</td>\n",
       "      <td>1.0</td>\n",
       "      <td>NaN</td>\n",
       "      <td>1.0</td>\n",
       "      <td>NaN</td>\n",
       "    </tr>\n",
       "    <tr>\n",
       "      <th>1</th>\n",
       "      <td>2019</td>\n",
       "      <td>11</td>\n",
       "      <td>19</td>\n",
       "      <td>31</td>\n",
       "      <td>31</td>\n",
       "      <td>2019</td>\n",
       "      <td>11</td>\n",
       "      <td>2</td>\n",
       "      <td>2</td>\n",
       "      <td>5</td>\n",
       "      <td>5</td>\n",
       "      <td>1</td>\n",
       "      <td>1</td>\n",
       "      <td>31.723</td>\n",
       "      <td>26.580</td>\n",
       "      <td>1.0</td>\n",
       "      <td>NaN</td>\n",
       "      <td>1.0</td>\n",
       "      <td>NaN</td>\n",
       "    </tr>\n",
       "    <tr>\n",
       "      <th>2</th>\n",
       "      <td>2019</td>\n",
       "      <td>11</td>\n",
       "      <td>19</td>\n",
       "      <td>31</td>\n",
       "      <td>31</td>\n",
       "      <td>2019</td>\n",
       "      <td>11</td>\n",
       "      <td>2</td>\n",
       "      <td>2</td>\n",
       "      <td>5</td>\n",
       "      <td>5</td>\n",
       "      <td>1</td>\n",
       "      <td>1</td>\n",
       "      <td>29.545</td>\n",
       "      <td>29.389</td>\n",
       "      <td>1.0</td>\n",
       "      <td>NaN</td>\n",
       "      <td>1.0</td>\n",
       "      <td>NaN</td>\n",
       "    </tr>\n",
       "    <tr>\n",
       "      <th>3</th>\n",
       "      <td>2019</td>\n",
       "      <td>11</td>\n",
       "      <td>22</td>\n",
       "      <td>31</td>\n",
       "      <td>31</td>\n",
       "      <td>2019</td>\n",
       "      <td>11</td>\n",
       "      <td>3</td>\n",
       "      <td>3</td>\n",
       "      <td>5</td>\n",
       "      <td>5</td>\n",
       "      <td>1</td>\n",
       "      <td>1</td>\n",
       "      <td>32.123</td>\n",
       "      <td>29.715</td>\n",
       "      <td>1.0</td>\n",
       "      <td>NaN</td>\n",
       "      <td>1.0</td>\n",
       "      <td>NaN</td>\n",
       "    </tr>\n",
       "    <tr>\n",
       "      <th>4</th>\n",
       "      <td>2021</td>\n",
       "      <td>4</td>\n",
       "      <td>6</td>\n",
       "      <td>31</td>\n",
       "      <td>31</td>\n",
       "      <td>2019</td>\n",
       "      <td>4</td>\n",
       "      <td>3</td>\n",
       "      <td>3</td>\n",
       "      <td>5</td>\n",
       "      <td>5</td>\n",
       "      <td>1</td>\n",
       "      <td>1</td>\n",
       "      <td>30.378</td>\n",
       "      <td>29.021</td>\n",
       "      <td>NaN</td>\n",
       "      <td>NaN</td>\n",
       "      <td>NaN</td>\n",
       "      <td>NaN</td>\n",
       "    </tr>\n",
       "    <tr>\n",
       "      <th>...</th>\n",
       "      <td>...</td>\n",
       "      <td>...</td>\n",
       "      <td>...</td>\n",
       "      <td>...</td>\n",
       "      <td>...</td>\n",
       "      <td>...</td>\n",
       "      <td>...</td>\n",
       "      <td>...</td>\n",
       "      <td>...</td>\n",
       "      <td>...</td>\n",
       "      <td>...</td>\n",
       "      <td>...</td>\n",
       "      <td>...</td>\n",
       "      <td>...</td>\n",
       "      <td>...</td>\n",
       "      <td>...</td>\n",
       "      <td>...</td>\n",
       "      <td>...</td>\n",
       "      <td>...</td>\n",
       "    </tr>\n",
       "    <tr>\n",
       "      <th>209804</th>\n",
       "      <td>2019</td>\n",
       "      <td>6</td>\n",
       "      <td>14</td>\n",
       "      <td>21</td>\n",
       "      <td>21</td>\n",
       "      <td>2019</td>\n",
       "      <td>4</td>\n",
       "      <td>2</td>\n",
       "      <td>3</td>\n",
       "      <td>5</td>\n",
       "      <td>5</td>\n",
       "      <td>1</td>\n",
       "      <td>1</td>\n",
       "      <td>31.202</td>\n",
       "      <td>32.786</td>\n",
       "      <td>1.0</td>\n",
       "      <td>NaN</td>\n",
       "      <td>1.0</td>\n",
       "      <td>NaN</td>\n",
       "    </tr>\n",
       "    <tr>\n",
       "      <th>209805</th>\n",
       "      <td>2019</td>\n",
       "      <td>6</td>\n",
       "      <td>7</td>\n",
       "      <td>23</td>\n",
       "      <td>23</td>\n",
       "      <td>2019</td>\n",
       "      <td>6</td>\n",
       "      <td>5</td>\n",
       "      <td>5</td>\n",
       "      <td>4</td>\n",
       "      <td>4</td>\n",
       "      <td>1</td>\n",
       "      <td>1</td>\n",
       "      <td>28.010</td>\n",
       "      <td>25.309</td>\n",
       "      <td>1.0</td>\n",
       "      <td>NaN</td>\n",
       "      <td>1.0</td>\n",
       "      <td>NaN</td>\n",
       "    </tr>\n",
       "    <tr>\n",
       "      <th>209806</th>\n",
       "      <td>2019</td>\n",
       "      <td>6</td>\n",
       "      <td>14</td>\n",
       "      <td>38</td>\n",
       "      <td>38</td>\n",
       "      <td>2019</td>\n",
       "      <td>6</td>\n",
       "      <td>2</td>\n",
       "      <td>13</td>\n",
       "      <td>5</td>\n",
       "      <td>5</td>\n",
       "      <td>1</td>\n",
       "      <td>1</td>\n",
       "      <td>29.961</td>\n",
       "      <td>24.512</td>\n",
       "      <td>1.0</td>\n",
       "      <td>NaN</td>\n",
       "      <td>1.0</td>\n",
       "      <td>NaN</td>\n",
       "    </tr>\n",
       "    <tr>\n",
       "      <th>209807</th>\n",
       "      <td>2019</td>\n",
       "      <td>6</td>\n",
       "      <td>7</td>\n",
       "      <td>23</td>\n",
       "      <td>23</td>\n",
       "      <td>2019</td>\n",
       "      <td>6</td>\n",
       "      <td>5</td>\n",
       "      <td>2</td>\n",
       "      <td>5</td>\n",
       "      <td>6</td>\n",
       "      <td>1</td>\n",
       "      <td>1</td>\n",
       "      <td>31.112</td>\n",
       "      <td>30.013</td>\n",
       "      <td>1.0</td>\n",
       "      <td>NaN</td>\n",
       "      <td>1.0</td>\n",
       "      <td>NaN</td>\n",
       "    </tr>\n",
       "    <tr>\n",
       "      <th>209808</th>\n",
       "      <td>2019</td>\n",
       "      <td>6</td>\n",
       "      <td>14</td>\n",
       "      <td>21</td>\n",
       "      <td>21</td>\n",
       "      <td>2019</td>\n",
       "      <td>6</td>\n",
       "      <td>2</td>\n",
       "      <td>13</td>\n",
       "      <td>5</td>\n",
       "      <td>5</td>\n",
       "      <td>1</td>\n",
       "      <td>1</td>\n",
       "      <td>26.684</td>\n",
       "      <td>27.893</td>\n",
       "      <td>1.0</td>\n",
       "      <td>NaN</td>\n",
       "      <td>1.0</td>\n",
       "      <td>NaN</td>\n",
       "    </tr>\n",
       "  </tbody>\n",
       "</table>\n",
       "<p>189188 rows × 19 columns</p>\n",
       "</div>"
      ],
      "text/plain": [
       "        신고연도  신고월  신고일  남편지역코드  아내지역코드  실제결혼연도  실제결혼월  남편직업코드  아내직업코드  남편교육코드  \\\n",
       "0       2019   11   19      31      31    2019     11       2       2       5   \n",
       "1       2019   11   19      31      31    2019     11       2       2       5   \n",
       "2       2019   11   19      31      31    2019     11       2       2       5   \n",
       "3       2019   11   22      31      31    2019     11       3       3       5   \n",
       "4       2021    4    6      31      31    2019      4       3       3       5   \n",
       "...      ...  ...  ...     ...     ...     ...    ...     ...     ...     ...   \n",
       "209804  2019    6   14      21      21    2019      4       2       3       5   \n",
       "209805  2019    6    7      23      23    2019      6       5       5       4   \n",
       "209806  2019    6   14      38      38    2019      6       2      13       5   \n",
       "209807  2019    6    7      23      23    2019      6       5       2       5   \n",
       "209808  2019    6   14      21      21    2019      6       2      13       5   \n",
       "\n",
       "        아내교육코드  남편결혼코드  아내결혼코드    남편연령    아내연령  남편국적구분코드 남편국적코드  아내국적구분코드  \\\n",
       "0            5       1       1  40.454  36.178       1.0    NaN       1.0   \n",
       "1            5       1       1  31.723  26.580       1.0    NaN       1.0   \n",
       "2            5       1       1  29.545  29.389       1.0    NaN       1.0   \n",
       "3            5       1       1  32.123  29.715       1.0    NaN       1.0   \n",
       "4            5       1       1  30.378  29.021       NaN    NaN       NaN   \n",
       "...        ...     ...     ...     ...     ...       ...    ...       ...   \n",
       "209804       5       1       1  31.202  32.786       1.0    NaN       1.0   \n",
       "209805       4       1       1  28.010  25.309       1.0    NaN       1.0   \n",
       "209806       5       1       1  29.961  24.512       1.0    NaN       1.0   \n",
       "209807       6       1       1  31.112  30.013       1.0    NaN       1.0   \n",
       "209808       5       1       1  26.684  27.893       1.0    NaN       1.0   \n",
       "\n",
       "       아내국적코드  \n",
       "0         NaN  \n",
       "1         NaN  \n",
       "2         NaN  \n",
       "3         NaN  \n",
       "4         NaN  \n",
       "...       ...  \n",
       "209804    NaN  \n",
       "209805    NaN  \n",
       "209806    NaN  \n",
       "209807    NaN  \n",
       "209808    NaN  \n",
       "\n",
       "[189188 rows x 19 columns]"
      ]
     },
     "execution_count": 4,
     "metadata": {},
     "output_type": "execute_result"
    }
   ],
   "source": [
    "# 남편소득\n",
    "# 아내소득"
   ]
  },
  {
   "cell_type": "code",
   "execution_count": 21,
   "metadata": {},
   "outputs": [],
   "source": [
    "year = 2019\n",
    "# 소득  (연속)\n",
    "\n",
    "# 소득 차이 (연속)\n",
    "\n",
    "# 여성결혼연령 (연속)\n",
    "\n",
    "\n",
    "\n",
    "# 연상혼\n",
    "df[year].loc[df[year]['남편연령'] < df[year]['아내연령'], \"연상혼 유무\"] = 1\n",
    "df[year].loc[df[year]['남편연령'] >= df[year]['아내연령'], \"연상혼 유무\"] = 0\n",
    "\n",
    "# 아내 대도시\n",
    "df[year].loc[df[year]['아내지역코드'].isin([11, 21, 22, 23, 24, 25]), \"아내 대도시 유무\"] = 1\n",
    "df[year].loc[~df[year]['아내지역코드'].isin([11, 21, 22, 23, 24, 25]), \"아내 대도시 유무\"] = 0\n",
    "\n",
    "# 남편 대도시\n",
    "df[year].loc[df[year]['남편지역코드'].isin([11, 21, 22, 23, 24, 25]), \"남편 대도시 유무\"] = 1\n",
    "df[year].loc[~df[year]['남편지역코드'].isin([11, 21, 22, 23, 24, 25]), \"남편 대도시 유무\"] = 0\n",
    "\n",
    "# 남자 결혼 종류\n",
    "\n",
    "# 여자 결혼 종류\n",
    "\n",
    "# 아내 초혼 여부\n",
    "df[year].loc[df[year]['아내결혼코드'] == 1, \"아내 초혼 여부\"] = 1\n",
    "df[year].loc[df[year]['아내결혼코드'] != 1, \"아내 초혼 여부\"]= 0\n",
    "\n",
    "# 남편 초혼 여부\n",
    "df[year].loc[df[year]['남편결혼코드'] == 1, \"남편 초혼 여부\"] = 1\n",
    "df[year].loc[df[year]['남편결혼코드'] != 1, \"남편 초혼 여부\"]= 0\n",
    "\n",
    "# 결혼 종류 차이 여부\n",
    "df[year].loc[df[year]['남편 초혼 여부'] == df[year]['아내 초혼 여부'], \"결혼종류 차이 유무\"] = 1\n",
    "df[year].loc[df[year]['남편 초혼 여부'] != df[year]['아내 초혼 여부'], \"결혼종류 차이 유무\"]= 0\n",
    "\n",
    "# 강혼 유무\n",
    "df[year].loc[df[year]['아내교육코드'] > df[year]['남편교육코드'], \"강혼 유무\"] = 1\n",
    "df[year].loc[~(df[year]['아내교육코드'] > df[year]['남편교육코드']), \"강혼 유무\"] = 0\n"
   ]
  },
  {
   "cell_type": "markdown",
   "metadata": {},
   "source": [
    "### 연상혼 -> 강혼 "
   ]
  },
  {
   "cell_type": "code",
   "execution_count": 22,
   "metadata": {},
   "outputs": [
    {
     "name": "stdout",
     "output_type": "stream",
     "text": [
      "-------------- 2019 연도 연상혼 -> 강혼 카이제곱 검정 -----------------\n",
      "c-val : 467.3145771178549\n",
      "P-val : 1.2306651401924075e-103\n",
      "dof : 1\n"
     ]
    }
   ],
   "source": [
    "crosstab = pd.crosstab(df[year]['연상혼 유무'], df[year][\"강혼 유무\"])\n",
    "c, p, dof, expected = scipy.stats.chi2_contingency(crosstab, correction= True)\n",
    "\n",
    "print(f\"-------------- 2019 연도 연상혼 -> 강혼 카이제곱 검정 -----------------\")\n",
    "print(\"c-val : \" + str(c))\n",
    "print(\"P-val : \" + str(p))\n",
    "print(\"dof : \" + str(dof))"
   ]
  },
  {
   "cell_type": "markdown",
   "metadata": {},
   "source": [
    "### 아내 대도시 -> 강혼"
   ]
  },
  {
   "cell_type": "code",
   "execution_count": 23,
   "metadata": {},
   "outputs": [
    {
     "name": "stdout",
     "output_type": "stream",
     "text": [
      "-------------- 2019 아내 대도시 -> 강혼 카이제곱 검정 -----------------\n",
      "c-val : 8.870394630954348\n",
      "P-val : 0.0028983248060417753\n",
      "dof : 1\n"
     ]
    }
   ],
   "source": [
    "crosstab = pd.crosstab(df[year][\"아내 대도시 유무\"], df[year][\"강혼 유무\"])\n",
    "c, p, dof, expected = scipy.stats.chi2_contingency(crosstab, correction= True)\n",
    "\n",
    "print(f\"-------------- 2019 아내 대도시 -> 강혼 카이제곱 검정 -----------------\")\n",
    "print(\"c-val : \" + str(c))\n",
    "print(\"P-val : \" + str(p))\n",
    "print(\"dof : \" + str(dof))"
   ]
  },
  {
   "cell_type": "markdown",
   "metadata": {},
   "source": [
    "### 남편 대도시 -> 강혼"
   ]
  },
  {
   "cell_type": "code",
   "execution_count": 24,
   "metadata": {},
   "outputs": [
    {
     "name": "stdout",
     "output_type": "stream",
     "text": [
      "-------------- 2019 남편 대도시 -> 강혼 카이제곱 검정 -----------------\n",
      "c-val : 34.935255705611965\n",
      "P-val : 3.4085275463568994e-09\n",
      "dof : 1\n"
     ]
    }
   ],
   "source": [
    "crosstab = pd.crosstab(df[year][\"남편 대도시 유무\"], df[year][\"강혼 유무\"])\n",
    "c, p, dof, expected = scipy.stats.chi2_contingency(crosstab, correction= True)\n",
    "\n",
    "print(f\"-------------- 2019 남편 대도시 -> 강혼 카이제곱 검정 -----------------\")\n",
    "print(\"c-val : \" + str(c))\n",
    "print(\"P-val : \" + str(p))\n",
    "print(\"dof : \" + str(dof))"
   ]
  },
  {
   "cell_type": "markdown",
   "metadata": {},
   "source": [
    "### 결혼종류 차이 유무 -> 강혼"
   ]
  },
  {
   "cell_type": "code",
   "execution_count": 25,
   "metadata": {},
   "outputs": [
    {
     "name": "stdout",
     "output_type": "stream",
     "text": [
      "-------------- 2019 결혼종류 차이 유무 -> 강혼 카이제곱 검정 -----------------\n",
      "c-val : 24.836720243094867\n",
      "P-val : 6.239742512172959e-07\n",
      "dof : 1\n"
     ]
    }
   ],
   "source": [
    "crosstab = pd.crosstab(df[year][\"결혼종류 차이 유무\"], df[year][\"강혼 유무\"])\n",
    "c, p, dof, expected = scipy.stats.chi2_contingency(crosstab, correction= True)\n",
    "\n",
    "print(f\"-------------- 2019 결혼종류 차이 유무 -> 강혼 카이제곱 검정 -----------------\")\n",
    "print(\"c-val : \" + str(c))\n",
    "print(\"P-val : \" + str(p))\n",
    "print(\"dof : \" + str(dof))"
   ]
  },
  {
   "cell_type": "markdown",
   "metadata": {},
   "source": [
    "### 남성 결혼 종류 -> 강혼"
   ]
  },
  {
   "cell_type": "code",
   "execution_count": 26,
   "metadata": {},
   "outputs": [
    {
     "name": "stdout",
     "output_type": "stream",
     "text": [
      "-------------- 2019 남편 결혼 종류 -> 강혼 카이제곱 검정 -----------------\n",
      "c-val : 72.48936593806386\n",
      "P-val : 1.2504986570851082e-15\n",
      "dof : 3\n"
     ]
    }
   ],
   "source": [
    "crosstab = pd.crosstab(df[year][\"남편결혼코드\"], df[year][\"강혼 유무\"])\n",
    "c, p, dof, expected = scipy.stats.chi2_contingency(crosstab)\n",
    "\n",
    "print(f\"-------------- 2019 남편 결혼 종류 -> 강혼 카이제곱 검정 -----------------\")\n",
    "print(\"c-val : \" + str(c))\n",
    "print(\"P-val : \" + str(p))\n",
    "print(\"dof : \" + str(dof))"
   ]
  },
  {
   "cell_type": "markdown",
   "metadata": {},
   "source": [
    "### 여성 결혼 종류 -> 강혼"
   ]
  },
  {
   "cell_type": "code",
   "execution_count": 27,
   "metadata": {},
   "outputs": [
    {
     "name": "stdout",
     "output_type": "stream",
     "text": [
      "-------------- 2019 아내 결혼 종류 -> 강혼 카이제곱 검정 -----------------\n",
      "c-val : 147.3353273639967\n",
      "P-val : 9.898101372199756e-32\n",
      "dof : 3\n"
     ]
    }
   ],
   "source": [
    "crosstab = pd.crosstab(df[year][\"아내결혼코드\"], df[year][\"강혼 유무\"])\n",
    "c, p, dof, expected = scipy.stats.chi2_contingency(crosstab, correction= True)\n",
    "\n",
    "print(f\"-------------- 2019 아내 결혼 종류 -> 강혼 카이제곱 검정 -----------------\")\n",
    "print(\"c-val : \" + str(c))\n",
    "print(\"P-val : \" + str(p))\n",
    "print(\"dof : \" + str(dof))"
   ]
  },
  {
   "cell_type": "markdown",
   "metadata": {},
   "source": [
    "### 여성 연령 -> 강혼"
   ]
  },
  {
   "cell_type": "code",
   "execution_count": 36,
   "metadata": {},
   "outputs": [
    {
     "name": "stderr",
     "output_type": "stream",
     "text": [
      "c:\\Users\\nexen\\AppData\\Local\\Programs\\Python\\Python310\\lib\\site-packages\\mpl_scatter_density\\generic_density_artist.py:77: RuntimeWarning: All-NaN slice encountered\n",
      "  vmin = self._density_vmin(array)\n",
      "c:\\Users\\nexen\\AppData\\Local\\Programs\\Python\\Python310\\lib\\site-packages\\mpl_scatter_density\\generic_density_artist.py:82: RuntimeWarning: All-NaN slice encountered\n",
      "  vmax = self._density_vmax(array)\n"
     ]
    },
    {
     "data": {
      "image/png": "[encoded data removed]",
      "text/plain": [
       "<Figure size 432x288 with 2 Axes>"
      ]
     },
     "metadata": {
      "needs_background": "light"
     },
     "output_type": "display_data"
    }
   ],
   "source": [
    "# \"Viridis-like\" colormap with white background\n",
    "white_viridis = LinearSegmentedColormap.from_list('white_viridis', [\n",
    "    (0, '#ffffff'),\n",
    "    (1e-20, '#440053'),\n",
    "    (0.2, '#404388'),\n",
    "    (0.4, '#2a788e'),\n",
    "    (0.6, '#21a784'),\n",
    "    (0.8, '#78d151'),\n",
    "    (1, '#fde624'),\n",
    "], N=256)\n",
    "\n",
    "def using_mpl_scatter_density(fig, x, y):\n",
    "    ax = fig.add_subplot(1, 1, 1, projection='scatter_density')\n",
    "    density = ax.scatter_density(x, y, cmap=white_viridis)\n",
    "    fig.colorbar(density, label='Number of points per pixel')\n",
    "\n",
    "fig = plt.figure()\n",
    "using_mpl_scatter_density(fig, df[year]['아내연령'], df[year]['강혼 유무'])\n",
    "\n",
    "plt.ylim(0.99, 1.01)\n",
    "plt.show()"
   ]
  },
  {
   "cell_type": "code",
   "execution_count": 40,
   "metadata": {},
   "outputs": [
    {
     "data": {
      "image/png": "[encoded data removed]",
      "text/plain": [
       "<Figure size 432x288 with 2 Axes>"
      ]
     },
     "metadata": {
      "needs_background": "light"
     },
     "output_type": "display_data"
    }
   ],
   "source": [
    "fig = plt.figure()\n",
    "using_mpl_scatter_density(fig, df[year]['아내연령'], df[year]['강혼 유무'])\n",
    "\n",
    "plt.ylim(-0.001, 0.01)\n",
    "plt.show()"
   ]
  }
 ],
 "metadata": {
  "kernelspec": {
   "display_name": "Python 3.10.0 64-bit",
   "language": "python",
   "name": "python3"
  },
  "language_info": {
   "codemirror_mode": {
    "name": "ipython",
    "version": 3
   },
   "file_extension": ".py",
   "mimetype": "text/x-python",
   "name": "python",
   "nbconvert_exporter": "python",
   "pygments_lexer": "ipython3",
   "version": "3.10.0"
  },
  "orig_nbformat": 4,
  "vscode": {
   "interpreter": {
    "hash": "6491f2daa2ef10fef3de35be2aa54649989df64b9b0e9017ecda644db8c2d92e"
   }
  }
 },
 "nbformat": 4,
 "nbformat_minor": 2
}
