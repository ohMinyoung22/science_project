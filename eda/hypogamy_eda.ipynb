{
 "cells": [
  {
   "cell_type": "code",
   "execution_count": 4,
   "metadata": {},
   "outputs": [],
   "source": [
    "import pandas as pd\n",
    "import matplotlib.pyplot as plt\n",
    "import seaborn as sns"
   ]
  },
  {
   "cell_type": "code",
   "execution_count": 44,
   "metadata": {},
   "outputs": [
    {
     "name": "stderr",
     "output_type": "stream",
     "text": [
      "C:\\Users\\Administrator\\AppData\\Local\\Temp\\ipykernel_4524\\1830327641.py:6: DtypeWarning: Columns (18) have mixed types. Specify dtype option on import or set low_memory=False.\n",
      "  df[i] = pd.read_csv(\"../data/csv_in_\" + str(i) + \".csv\")\n",
      "C:\\Users\\Administrator\\AppData\\Local\\Temp\\ipykernel_4524\\1830327641.py:6: DtypeWarning: Columns (18) have mixed types. Specify dtype option on import or set low_memory=False.\n",
      "  df[i] = pd.read_csv(\"../data/csv_in_\" + str(i) + \".csv\")\n",
      "C:\\Users\\Administrator\\AppData\\Local\\Temp\\ipykernel_4524\\1830327641.py:6: DtypeWarning: Columns (16) have mixed types. Specify dtype option on import or set low_memory=False.\n",
      "  df[i] = pd.read_csv(\"../data/csv_in_\" + str(i) + \".csv\")\n",
      "C:\\Users\\Administrator\\AppData\\Local\\Temp\\ipykernel_4524\\1830327641.py:6: DtypeWarning: Columns (16) have mixed types. Specify dtype option on import or set low_memory=False.\n",
      "  df[i] = pd.read_csv(\"../data/csv_in_\" + str(i) + \".csv\")\n"
     ]
    }
   ],
   "source": [
    "df = {}\n",
    "\n",
    "all_count_list = []\n",
    "\n",
    "for i in range(2010, 2022):\n",
    "    df[i] = pd.read_csv(\"../data/csv_in_\" + str(i) + \".csv\")\n",
    "    all_count_list.append(len(df[i]))"
   ]
  },
  {
   "cell_type": "code",
   "execution_count": 45,
   "metadata": {},
   "outputs": [],
   "source": [
    "# hypogamy -> 강혼, hypergamy -> 승혼\n",
    "\n",
    "def getDataFrame(womanMarriageCode):\n",
    "    context = []\n",
    "\n",
    "    for i in range(2010, 2022):\n",
    "        woman_marriaged = df[i][df[i]['아내결혼코드'] == womanMarriageCode]\n",
    "\n",
    "        woman_marriaged = woman_marriaged.drop(labels = woman_marriaged[woman_marriaged['아내교육코드'].isin([1])].index)\n",
    "\n",
    "        hypogamy_condition = woman_marriaged['아내교육코드'] > woman_marriaged['남편교육코드']\n",
    "\n",
    "        woman_edu_revised = woman_marriaged[hypogamy_condition]\n",
    "\n",
    "        context.append(woman_edu_revised)\n",
    "\n",
    "    return context"
   ]
  },
  {
   "cell_type": "code",
   "execution_count": 46,
   "metadata": {},
   "outputs": [],
   "source": [
    "def getAllCountList(womanMarriageCode):\n",
    "    l = []\n",
    "\n",
    "    for i in range(2010, 2022):\n",
    "        woman_marriaged = df[i][df[i]['아내결혼코드'] == womanMarriageCode]\n",
    "\n",
    "        woman_marriaged = woman_marriaged.drop(labels = woman_marriaged[woman_marriaged['아내교육코드'].isin([1])].index)\n",
    "\n",
    "        l.append(len(woman_marriaged))\n",
    "\n",
    "    return l\n",
    "\n"
   ]
  },
  {
   "cell_type": "code",
   "execution_count": 47,
   "metadata": {},
   "outputs": [
    {
     "data": {
      "text/plain": [
       "5    25154\n",
       "6    10613\n",
       "4     2450\n",
       "Name: 아내교육코드, dtype: int64"
      ]
     },
     "execution_count": 47,
     "metadata": {},
     "output_type": "execute_result"
    }
   ],
   "source": [
    "df[2019][df[2019]['아내교육코드'] > df[2019]['남편교육코드']]['아내교육코드'].value_counts()"
   ]
  },
  {
   "cell_type": "markdown",
   "metadata": {},
   "source": [
    "### 강혼 여성 인원 추세"
   ]
  },
  {
   "cell_type": "code",
   "execution_count": 48,
   "metadata": {},
   "outputs": [
    {
     "data": {
      "text/plain": [
       "<BarContainer object of 12 artists>"
      ]
     },
     "execution_count": 48,
     "metadata": {},
     "output_type": "execute_result"
    },
    {
     "data": {
      "image/png": "[encoded data removed]",
      "text/plain": [
       "<Figure size 432x288 with 1 Axes>"
      ]
     },
     "metadata": {
      "needs_background": "light"
     },
     "output_type": "display_data"
    }
   ],
   "source": [
    "# 시대가 변하면서 강혼에 대한 편견이 많이 사라지지 않았을까?\n",
    "hypogamy_list_first = getDataFrame(1) \n",
    "hypogamy_list_second = getDataFrame(2) \n",
    "\n",
    "hypogamy_length_first = [len(x) for x in hypogamy_list_first]\n",
    "\n",
    "# X축 연도, Y축 해당 연도 강혼 인원 비율 -> plot\n",
    "\n",
    "list_ratio = []\n",
    "\n",
    "for i in range(0, 12):\n",
    "    list_ratio.append(hypogamy_length_first[i] / getAllCountList(1)[i])\n",
    "\n",
    "plt.bar(x=range(2010, 2022), height = list_ratio)\n",
    "\n",
    "# 초혼 여성의 경우 뚜렷한 비율 상승세가 나타남"
   ]
  },
  {
   "cell_type": "code",
   "execution_count": 49,
   "metadata": {},
   "outputs": [
    {
     "data": {
      "text/plain": [
       "<BarContainer object of 12 artists>"
      ]
     },
     "execution_count": 49,
     "metadata": {},
     "output_type": "execute_result"
    },
    {
     "data": {
      "image/png": "[encoded data removed]",
      "text/plain": [
       "<Figure size 432x288 with 1 Axes>"
      ]
     },
     "metadata": {
      "needs_background": "light"
     },
     "output_type": "display_data"
    }
   ],
   "source": [
    "hypogamy_length_second = [len(x) for x in hypogamy_list_second]\n",
    "\n",
    "list_ratio = []\n",
    "\n",
    "for i in range(0, 12):\n",
    "    list_ratio.append(hypogamy_length_second[i] / getAllCountList(2)[i])\n",
    "\n",
    "plt.bar(x=range(2010, 2022), height = list_ratio)\n",
    "\n",
    "# 재혼 여성에서는 두드러진 패턴이 나타나지 않음"
   ]
  },
  {
   "cell_type": "markdown",
   "metadata": {},
   "source": [
    "### 초혼 강혼 여성 나이 추세"
   ]
  },
  {
   "cell_type": "code",
   "execution_count": 50,
   "metadata": {},
   "outputs": [
    {
     "data": {
      "image/png": "[encoded data removed]",
      "text/plain": [
       "<Figure size 1440x720 with 1 Axes>"
      ]
     },
     "metadata": {
      "needs_background": "light"
     },
     "output_type": "display_data"
    }
   ],
   "source": [
    "fig, ax = plt.subplots(figsize=(20, 10))\n",
    "ax.boxplot([x['아내연령'] for x in getDataFrame(1)], showfliers=False, showmeans=True)\n",
    "ax.set_xticklabels(range(2010, 2022))\n",
    "\n",
    "plt.show()"
   ]
  },
  {
   "cell_type": "markdown",
   "metadata": {},
   "source": [
    "### 초혼 강혼 여성 학력 "
   ]
  },
  {
   "cell_type": "code",
   "execution_count": 51,
   "metadata": {},
   "outputs": [
    {
     "data": {
      "text/plain": [
       "<AxesSubplot:>"
      ]
     },
     "execution_count": 51,
     "metadata": {},
     "output_type": "execute_result"
    },
    {
     "data": {
      "image/png": "[encoded data removed]",
      "text/plain": [
       "<Figure size 432x288 with 1 Axes>"
      ]
     },
     "metadata": {
      "needs_background": "light"
     },
     "output_type": "display_data"
    }
   ],
   "source": [
    "getDataFrame(1)[11]['아내교육코드'].value_counts().plot.bar()\n",
    "\n",
    "# 여자 초졸 - 남자 무학 / 여자 중졸 - 남자 초졸 이하 케이스 없음\n",
    "# 즉 현 데이터에서 강혼 여성은 고졸 이상\n",
    "# 여성이 대학교졸인 케이스가 압도적으로 많음 "
   ]
  },
  {
   "cell_type": "markdown",
   "metadata": {},
   "source": [
    "### 초혼 강혼 여성 나이 차 추세"
   ]
  },
  {
   "cell_type": "code",
   "execution_count": 52,
   "metadata": {},
   "outputs": [],
   "source": [
    "hypogamy_first = getDataFrame(1)\n",
    "\n",
    "for i in range(0, 12):\n",
    "    hypogamy_first[i]['나이 차'] = hypogamy_first[i]['남편연령'] - hypogamy_first[i]['아내연령']"
   ]
  },
  {
   "cell_type": "code",
   "execution_count": 53,
   "metadata": {},
   "outputs": [
    {
     "data": {
      "image/png": "[encoded data removed]",
      "text/plain": [
       "<Figure size 1440x720 with 1 Axes>"
      ]
     },
     "metadata": {
      "needs_background": "light"
     },
     "output_type": "display_data"
    }
   ],
   "source": [
    "fig, ax = plt.subplots(figsize=(20, 10))\n",
    "ax.boxplot([x['나이 차'] for x in hypogamy_first], showfliers=False, showmeans=True)\n",
    "ax.set_xticklabels(range(2010, 2022))\n",
    "\n",
    "plt.show()\n",
    "\n",
    "# 초혼 강혼 여성과 남편의 나이 차 점점 줄어들고 있음"
   ]
  },
  {
   "cell_type": "code",
   "execution_count": 54,
   "metadata": {},
   "outputs": [
    {
     "data": {
      "text/plain": [
       "Ttest_indResult(statistic=-3.021883938344976, pvalue=0.9987435965154602)"
      ]
     },
     "execution_count": 54,
     "metadata": {},
     "output_type": "execute_result"
    }
   ],
   "source": [
    "import scipy\n",
    "scipy.stats.ttest_ind(hypogamy_first[3]['나이 차'], hypogamy_first[2]['나이 차'], alternative=\"greater\")"
   ]
  },
  {
   "cell_type": "markdown",
   "metadata": {},
   "source": [
    "### "
   ]
  },
  {
   "cell_type": "markdown",
   "metadata": {},
   "source": [
    "### 초혼 강혼 여성 직업 분포"
   ]
  },
  {
   "cell_type": "code",
   "execution_count": 55,
   "metadata": {},
   "outputs": [
    {
     "data": {
      "text/plain": [
       "<AxesSubplot:>"
      ]
     },
     "execution_count": 55,
     "metadata": {},
     "output_type": "execute_result"
    },
    {
     "data": {
      "image/png": "[encoded data removed]",
      "text/plain": [
       "<Figure size 432x288 with 1 Axes>"
      ]
     },
     "metadata": {
      "needs_background": "light"
     },
     "output_type": "display_data"
    }
   ],
   "source": [
    "# 대졸/대학원졸 출신 높음 -> 전문가 비율 높을 것\n",
    "\n",
    "getDataFrame(1)[11]['아내직업코드'].value_counts().plot.bar()\n",
    "\n",
    "# 2017년까지는 무직/주부 제일 높으나 전문가 수가 꾸준히 추격, 2018년부터는 전문가 수가 1위 유지 -> 대학원졸 많은 것과 관계 있을 듯"
   ]
  },
  {
   "cell_type": "markdown",
   "metadata": {},
   "source": [
    "### 초혼 강혼 여성 지역 분포"
   ]
  },
  {
   "cell_type": "code",
   "execution_count": 56,
   "metadata": {},
   "outputs": [
    {
     "data": {
      "text/plain": [
       "<AxesSubplot:>"
      ]
     },
     "execution_count": 56,
     "metadata": {},
     "output_type": "execute_result"
    },
    {
     "data": {
      "image/png": "[encoded data removed]",
      "text/plain": [
       "<Figure size 432x288 with 1 Axes>"
      ]
     },
     "metadata": {
      "needs_background": "light"
     },
     "output_type": "display_data"
    }
   ],
   "source": [
    "#전문가 많음 -> 경제수준 높음 -> 수도권 선호?\n",
    "\n",
    "getDataFrame(1)[5]['아내지역코드'].value_counts().plot.bar()\n",
    "\n",
    "# 압도적으로 수도권 (서울 경기) 아내 거주 많음"
   ]
  },
  {
   "cell_type": "code",
   "execution_count": 57,
   "metadata": {},
   "outputs": [
    {
     "data": {
      "text/plain": [
       "<AxesSubplot:>"
      ]
     },
     "execution_count": 57,
     "metadata": {},
     "output_type": "execute_result"
    },
    {
     "data": {
      "image/png": "[encoded data removed]",
      "text/plain": [
       "<Figure size 432x288 with 1 Axes>"
      ]
     },
     "metadata": {
      "needs_background": "light"
     },
     "output_type": "display_data"
    }
   ],
   "source": [
    "getDataFrame(1)[11]['남편지역코드'].value_counts().plot.bar()"
   ]
  },
  {
   "cell_type": "markdown",
   "metadata": {},
   "source": [
    "### "
   ]
  }
 ],
 "metadata": {
  "kernelspec": {
   "display_name": "Python 3.10.5 64-bit",
   "language": "python",
   "name": "python3"
  },
  "language_info": {
   "codemirror_mode": {
    "name": "ipython",
    "version": 3
   },
   "file_extension": ".py",
   "mimetype": "text/x-python",
   "name": "python",
   "nbconvert_exporter": "python",
   "pygments_lexer": "ipython3",
   "version": "3.10.5"
  },
  "orig_nbformat": 4,
  "vscode": {
   "interpreter": {
    "hash": "3196968d684371006099b3d55edeef8ed90365227a30deaef86e5d4aa8519be0"
   }
  }
 },
 "nbformat": 4,
 "nbformat_minor": 2
}
