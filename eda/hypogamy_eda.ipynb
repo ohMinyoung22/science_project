{
 "cells": [
  {
   "cell_type": "code",
   "execution_count": 1,
   "metadata": {},
   "outputs": [],
   "source": [
    "import pandas as pd\n",
    "import matplotlib.pyplot as plt\n",
    "import seaborn as sns"
   ]
  },
  {
   "cell_type": "code",
   "execution_count": 2,
   "metadata": {},
   "outputs": [
    {
     "name": "stderr",
     "output_type": "stream",
     "text": [
      "C:\\Users\\nexen\\AppData\\Local\\Temp\\ipykernel_31524\\2842703993.py:4: DtypeWarning: Columns (18) have mixed types. Specify dtype option on import or set low_memory=False.\n",
      "  df[i] = pd.read_csv(\"../data/csv_in_\" + str(i) + \".csv\")\n",
      "C:\\Users\\nexen\\AppData\\Local\\Temp\\ipykernel_31524\\2842703993.py:4: DtypeWarning: Columns (18) have mixed types. Specify dtype option on import or set low_memory=False.\n",
      "  df[i] = pd.read_csv(\"../data/csv_in_\" + str(i) + \".csv\")\n",
      "C:\\Users\\nexen\\AppData\\Local\\Temp\\ipykernel_31524\\2842703993.py:4: DtypeWarning: Columns (16) have mixed types. Specify dtype option on import or set low_memory=False.\n",
      "  df[i] = pd.read_csv(\"../data/csv_in_\" + str(i) + \".csv\")\n",
      "C:\\Users\\nexen\\AppData\\Local\\Temp\\ipykernel_31524\\2842703993.py:4: DtypeWarning: Columns (16) have mixed types. Specify dtype option on import or set low_memory=False.\n",
      "  df[i] = pd.read_csv(\"../data/csv_in_\" + str(i) + \".csv\")\n"
     ]
    }
   ],
   "source": [
    "df = {}\n",
    "\n",
    "all_count_list = []\n",
    "\n",
    "for i in range(2010, 2022):\n",
    "    df[i] = pd.read_csv(\"../data/csv_in_\" + str(i) + \".csv\")\n",
    "    all_count_list.append(len(df[i]))"
   ]
  },
  {
   "cell_type": "code",
   "execution_count": 7,
   "metadata": {},
   "outputs": [],
   "source": [
    "# hypogamy -> 강혼, hypergamy -> 승혼\n",
    "\n",
    "def getDataFrame(womanMarriageCode):\n",
    "    context = []\n",
    "\n",
    "    for i in range(2010, 2022):\n",
    "        woman_marriaged = df[i][df[i]['아내결혼코드'] == womanMarriageCode]\n",
    "\n",
    "        woman_marriaged = woman_marriaged.drop(labels = woman_marriaged[woman_marriaged['아내교육코드'].isin([1, 6])].index)\n",
    "\n",
    "        hypogamy_condition = woman_marriaged['아내교육코드'] > woman_marriaged['남편교육코드']\n",
    "\n",
    "        woman_edu_revised = woman_marriaged[hypogamy_condition]\n",
    "\n",
    "        context.append(woman_edu_revised)\n",
    "\n",
    "    return context"
   ]
  },
  {
   "cell_type": "code",
   "execution_count": 10,
   "metadata": {},
   "outputs": [],
   "source": [
    "def getAllCountList(womanMarriageCode):\n",
    "    l = []\n",
    "\n",
    "    for i in range(2010, 2022):\n",
    "        woman_marriaged = df[i][df[i]['아내결혼코드'] == womanMarriageCode]\n",
    "\n",
    "        woman_marriaged = woman_marriaged.drop(labels = woman_marriaged[woman_marriaged['아내교육코드'].isin([1, 6])].index)\n",
    "\n",
    "        l.append(len(woman_marriaged))\n",
    "\n",
    "    return l\n",
    "\n"
   ]
  },
  {
   "cell_type": "markdown",
   "metadata": {},
   "source": [
    "### 강혼 여성 인원 추세"
   ]
  },
  {
   "cell_type": "code",
   "execution_count": 15,
   "metadata": {},
   "outputs": [
    {
     "data": {
      "text/plain": [
       "<BarContainer object of 12 artists>"
      ]
     },
     "execution_count": 15,
     "metadata": {},
     "output_type": "execute_result"
    },
    {
     "data": {
      "image/png": "[encoded data removed]",
      "text/plain": [
       "<Figure size 432x288 with 1 Axes>"
      ]
     },
     "metadata": {
      "needs_background": "light"
     },
     "output_type": "display_data"
    }
   ],
   "source": [
    "# 시대가 변하면서 강혼에 대한 편견이 많이 사라지지 않았을까?\n",
    "hypogamy_list_first = getDataFrame(1) \n",
    "hypogamy_list_second = getDataFrame(2) \n",
    "\n",
    "hypogamy_length_first = [len(x) for x in hypogamy_list_first]\n",
    "\n",
    "# X축 연도, Y축 해당 연도 강혼 인원 비율 -> plot\n",
    "\n",
    "list_ratio = []\n",
    "\n",
    "for i in range(0, 12):\n",
    "    list_ratio.append(hypogamy_length_first[i] / getAllCountList(1)[i])\n",
    "\n",
    "plt.bar(x=range(2010, 2022), height = list_ratio)\n",
    "\n",
    "# 초혼 여성의 경우 뚜렷한 비율 상승세가 나타남"
   ]
  },
  {
   "cell_type": "code",
   "execution_count": 16,
   "metadata": {},
   "outputs": [
    {
     "data": {
      "text/plain": [
       "<BarContainer object of 12 artists>"
      ]
     },
     "execution_count": 16,
     "metadata": {},
     "output_type": "execute_result"
    },
    {
     "data": {
      "image/png": "[encoded data removed]",
      "text/plain": [
       "<Figure size 432x288 with 1 Axes>"
      ]
     },
     "metadata": {
      "needs_background": "light"
     },
     "output_type": "display_data"
    }
   ],
   "source": [
    "hypogamy_length_second = [len(x) for x in hypogamy_list_second]\n",
    "\n",
    "list_ratio = []\n",
    "\n",
    "for i in range(0, 12):\n",
    "    list_ratio.append(hypogamy_length_second[i] / getAllCountList(2)[i])\n",
    "\n",
    "plt.bar(x=range(2010, 2022), height = list_ratio)\n",
    "\n",
    "# 재혼 여성에서는 두드러진 패턴이 나타나지 않음"
   ]
  }
 ],
 "metadata": {
  "kernelspec": {
   "display_name": "Python 3.10.0 64-bit",
   "language": "python",
   "name": "python3"
  },
  "language_info": {
   "codemirror_mode": {
    "name": "ipython",
    "version": 3
   },
   "file_extension": ".py",
   "mimetype": "text/x-python",
   "name": "python",
   "nbconvert_exporter": "python",
   "pygments_lexer": "ipython3",
   "version": "3.10.0"
  },
  "orig_nbformat": 4,
  "vscode": {
   "interpreter": {
    "hash": "6491f2daa2ef10fef3de35be2aa54649989df64b9b0e9017ecda644db8c2d92e"
   }
  }
 },
 "nbformat": 4,
 "nbformat_minor": 2
}
