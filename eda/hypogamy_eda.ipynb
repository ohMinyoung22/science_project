{
 "cells": [
  {
   "cell_type": "code",
   "execution_count": 4,
   "metadata": {},
   "outputs": [],
   "source": [
    "import pandas as pd\n",
    "import matplotlib.pyplot as plt\n",
    "import seaborn as sns"
   ]
  },
  {
   "cell_type": "code",
   "execution_count": 75,
   "metadata": {},
   "outputs": [
    {
     "name": "stderr",
     "output_type": "stream",
     "text": [
      "C:\\Users\\Administrator\\AppData\\Local\\Temp\\ipykernel_4524\\1830327641.py:6: DtypeWarning: Columns (18) have mixed types. Specify dtype option on import or set low_memory=False.\n",
      "  df[i] = pd.read_csv(\"../data/csv_in_\" + str(i) + \".csv\")\n",
      "C:\\Users\\Administrator\\AppData\\Local\\Temp\\ipykernel_4524\\1830327641.py:6: DtypeWarning: Columns (18) have mixed types. Specify dtype option on import or set low_memory=False.\n",
      "  df[i] = pd.read_csv(\"../data/csv_in_\" + str(i) + \".csv\")\n",
      "C:\\Users\\Administrator\\AppData\\Local\\Temp\\ipykernel_4524\\1830327641.py:6: DtypeWarning: Columns (16) have mixed types. Specify dtype option on import or set low_memory=False.\n",
      "  df[i] = pd.read_csv(\"../data/csv_in_\" + str(i) + \".csv\")\n",
      "C:\\Users\\Administrator\\AppData\\Local\\Temp\\ipykernel_4524\\1830327641.py:6: DtypeWarning: Columns (16) have mixed types. Specify dtype option on import or set low_memory=False.\n",
      "  df[i] = pd.read_csv(\"../data/csv_in_\" + str(i) + \".csv\")\n"
     ]
    }
   ],
   "source": [
    "df = {}\n",
    "\n",
    "all_count_list = []\n",
    "\n",
    "for i in range(2010, 2022):\n",
    "    df[i] = pd.read_csv(\"../data/csv_in_\" + str(i) + \".csv\")\n",
    "    all_count_list.append(len(df[i]))"
   ]
  },
  {
   "cell_type": "code",
   "execution_count": 76,
   "metadata": {},
   "outputs": [],
   "source": [
    "# hypogamy -> 강혼\n",
    "\n",
    "def getDataFrame(womanMarriageCode):\n",
    "    context = []\n",
    "\n",
    "    for i in range(2010, 2022):\n",
    "        woman_marriaged = df[i][df[i]['아내결혼코드'] == womanMarriageCode]\n",
    "\n",
    "        woman_marriaged = woman_marriaged.drop(labels = woman_marriaged[woman_marriaged['아내교육코드'].isin([1])].index)\n",
    "\n",
    "        hypogamy_condition = woman_marriaged['아내교육코드'] > woman_marriaged['남편교육코드']\n",
    "\n",
    "        woman_edu_revised = woman_marriaged[hypogamy_condition]\n",
    "\n",
    "        context.append(woman_edu_revised)\n",
    "\n",
    "    return context"
   ]
  },
  {
   "cell_type": "code",
   "execution_count": 77,
   "metadata": {},
   "outputs": [],
   "source": [
    "def getAllCountList(womanMarriageCode):\n",
    "    l = []\n",
    "\n",
    "    for i in range(2010, 2022):\n",
    "        woman_marriaged = df[i][df[i]['아내결혼코드'] == womanMarriageCode]\n",
    "\n",
    "        woman_marriaged = woman_marriaged.drop(labels = woman_marriaged[woman_marriaged['아내교육코드'].isin([1])].index)\n",
    "\n",
    "        l.append(len(woman_marriaged))\n",
    "\n",
    "    return l\n",
    "\n"
   ]
  },
  {
   "cell_type": "code",
   "execution_count": 78,
   "metadata": {},
   "outputs": [
    {
     "data": {
      "text/plain": [
       "5    25154\n",
       "6    10613\n",
       "4     2450\n",
       "Name: 아내교육코드, dtype: int64"
      ]
     },
     "execution_count": 78,
     "metadata": {},
     "output_type": "execute_result"
    }
   ],
   "source": [
    "df[2019][df[2019]['아내교육코드'] > df[2019]['남편교육코드']]['아내교육코드'].value_counts()"
   ]
  },
  {
   "cell_type": "markdown",
   "metadata": {},
   "source": [
    "### 강혼 여성 인원 추세"
   ]
  },
  {
   "cell_type": "code",
   "execution_count": 79,
   "metadata": {},
   "outputs": [
    {
     "data": {
      "text/plain": [
       "<BarContainer object of 12 artists>"
      ]
     },
     "execution_count": 79,
     "metadata": {},
     "output_type": "execute_result"
    },
    {
     "data": {
      "image/png": "[encoded data removed]",
      "text/plain": [
       "<Figure size 432x288 with 1 Axes>"
      ]
     },
     "metadata": {
      "needs_background": "light"
     },
     "output_type": "display_data"
    }
   ],
   "source": [
    "# 시대가 변하면서 강혼에 대한 편견이 많이 사라지지 않았을까?\n",
    "hypogamy_list_first = getDataFrame(1) \n",
    "hypogamy_list_second = getDataFrame(2) \n",
    "\n",
    "hypogamy_length_first = [len(x) for x in hypogamy_list_first]\n",
    "\n",
    "# X축 연도, Y축 해당 연도 강혼 인원 비율 -> plot\n",
    "\n",
    "list_ratio = []\n",
    "\n",
    "for i in range(0, 12):\n",
    "    list_ratio.append(hypogamy_length_first[i] / getAllCountList(1)[i])\n",
    "\n",
    "plt.bar(x=range(2010, 2022), height = list_ratio)\n",
    "\n",
    "# 초혼 여성의 경우 뚜렷한 비율 상승세가 나타남"
   ]
  },
  {
   "cell_type": "code",
   "execution_count": 80,
   "metadata": {},
   "outputs": [
    {
     "data": {
      "text/plain": [
       "<BarContainer object of 12 artists>"
      ]
     },
     "execution_count": 80,
     "metadata": {},
     "output_type": "execute_result"
    },
    {
     "data": {
      "image/png": "[encoded data removed]",
      "text/plain": [
       "<Figure size 432x288 with 1 Axes>"
      ]
     },
     "metadata": {
      "needs_background": "light"
     },
     "output_type": "display_data"
    }
   ],
   "source": [
    "hypogamy_length_second = [len(x) for x in hypogamy_list_second]\n",
    "\n",
    "list_ratio = []\n",
    "\n",
    "for i in range(0, 12):\n",
    "    list_ratio.append(hypogamy_length_second[i] / getAllCountList(2)[i])\n",
    "\n",
    "plt.bar(x=range(2010, 2022), height = list_ratio)\n",
    "\n",
    "# 재혼 여성에서는 두드러진 패턴이 나타나지 않음"
   ]
  },
  {
   "cell_type": "markdown",
   "metadata": {},
   "source": [
    "### 초혼 강혼 여성 나이 추세"
   ]
  },
  {
   "cell_type": "code",
   "execution_count": 81,
   "metadata": {},
   "outputs": [
    {
     "data": {
      "image/png": "[encoded data removed]",
      "text/plain": [
       "<Figure size 1440x720 with 1 Axes>"
      ]
     },
     "metadata": {
      "needs_background": "light"
     },
     "output_type": "display_data"
    }
   ],
   "source": [
    "fig, ax = plt.subplots(figsize=(20, 10))\n",
    "ax.boxplot([x['아내연령'] for x in getDataFrame(1)], showfliers=False, showmeans=True)\n",
    "ax.set_xticklabels(range(2010, 2022))\n",
    "\n",
    "plt.show()"
   ]
  },
  {
   "cell_type": "markdown",
   "metadata": {},
   "source": [
    "### 초혼 강혼 여성 학력 "
   ]
  },
  {
   "cell_type": "code",
   "execution_count": 82,
   "metadata": {},
   "outputs": [
    {
     "data": {
      "text/plain": [
       "<AxesSubplot:>"
      ]
     },
     "execution_count": 82,
     "metadata": {},
     "output_type": "execute_result"
    },
    {
     "data": {
      "image/png": "[encoded data removed]",
      "text/plain": [
       "<Figure size 432x288 with 1 Axes>"
      ]
     },
     "metadata": {
      "needs_background": "light"
     },
     "output_type": "display_data"
    }
   ],
   "source": [
    "getDataFrame(1)[11]['아내교육코드'].value_counts().plot.bar()\n",
    "\n",
    "# 여자 초졸 - 남자 무학 / 여자 중졸 - 남자 초졸 이하 케이스 없음\n",
    "# 즉 현 데이터에서 강혼 여성은 고졸 이상\n",
    "# 여성이 대학교졸인 케이스가 압도적으로 많음"
   ]
  },
  {
   "cell_type": "markdown",
   "metadata": {},
   "source": [
    "### 초혼 강혼 여성 나이 차 추세"
   ]
  },
  {
   "cell_type": "code",
   "execution_count": 83,
   "metadata": {},
   "outputs": [],
   "source": [
    "hypogamy_first = getDataFrame(1)\n",
    "\n",
    "for i in range(0, 12):\n",
    "    hypogamy_first[i]['나이 차'] = hypogamy_first[i]['남편연령'] - hypogamy_first[i]['아내연령']"
   ]
  },
  {
   "cell_type": "code",
   "execution_count": 84,
   "metadata": {},
   "outputs": [
    {
     "data": {
      "image/png": "[encoded data removed]",
      "text/plain": [
       "<Figure size 1440x720 with 1 Axes>"
      ]
     },
     "metadata": {
      "needs_background": "light"
     },
     "output_type": "display_data"
    }
   ],
   "source": [
    "fig, ax = plt.subplots(figsize=(20, 10))\n",
    "ax.boxplot([x['나이 차'] for x in hypogamy_first], showfliers=False, showmeans=True)\n",
    "ax.set_xticklabels(range(2010, 2022))\n",
    "\n",
    "plt.show()\n",
    "\n",
    "# 초혼 강혼 여성과 남편의 나이 차 점점 줄어들고 있음"
   ]
  },
  {
   "cell_type": "code",
   "execution_count": 85,
   "metadata": {},
   "outputs": [
    {
     "data": {
      "text/plain": [
       "Ttest_indResult(statistic=-3.021883938344976, pvalue=0.9987435965154602)"
      ]
     },
     "execution_count": 85,
     "metadata": {},
     "output_type": "execute_result"
    }
   ],
   "source": [
    "import scipy\n",
    "scipy.stats.ttest_ind(hypogamy_first[3]['나이 차'], hypogamy_first[2]['나이 차'], alternative=\"greater\")"
   ]
  },
  {
   "cell_type": "markdown",
   "metadata": {},
   "source": [
    "### "
   ]
  },
  {
   "cell_type": "markdown",
   "metadata": {},
   "source": [
    "### 초혼 강혼 여성 직업 분포"
   ]
  },
  {
   "cell_type": "code",
   "execution_count": 98,
   "metadata": {},
   "outputs": [
    {
     "data": {
      "text/plain": [
       "<AxesSubplot:>"
      ]
     },
     "execution_count": 98,
     "metadata": {},
     "output_type": "execute_result"
    },
    {
     "data": {
      "image/png": "[encoded data removed]",
      "text/plain": [
       "<Figure size 432x288 with 1 Axes>"
      ]
     },
     "metadata": {
      "needs_background": "light"
     },
     "output_type": "display_data"
    }
   ],
   "source": [
    "# 대졸/대학원졸 출신 높음 -> 전문가 비율 높을 것\n",
    "\n",
    "getDataFrame(1)[9]['아내직업코드'].value_counts().plot.bar()\n",
    "\n",
    "# 2017년까지는 무직/주부 제일 높으나 전문가 수가 꾸준히 추격, 2018년부터는 전문가 수가 1위 유지 "
   ]
  },
  {
   "cell_type": "markdown",
   "metadata": {},
   "source": [
    "### 배우자가 젊을수록 동질혼의 가능성은 높아질 수 있다. > 20대의 동질혼 비율과 30대의 동질혼 비율 40대의 동질혼 비율 비교..?"
   ]
  },
  {
   "cell_type": "code",
   "execution_count": 104,
   "metadata": {},
   "outputs": [
    {
     "name": "stdout",
     "output_type": "stream",
     "text": [
      "0.675535015997156\n",
      "0.6726628386865243\n"
     ]
    },
    {
     "data": {
      "image/png": "[encoded data removed]",
      "text/plain": [
       "<Figure size 432x288 with 1 Axes>"
      ]
     },
     "metadata": {
      "needs_background": "light"
     },
     "output_type": "display_data"
    }
   ],
   "source": [
    "# 20대 30대 40대 50대 -> 나이대 별로 학력 수준이 같은 정도 비율 비교\n",
    "\n",
    "year = 2020\n",
    "# 1. 아내 초혼 기준\n",
    "first_marriage = df[year]['아내결혼코드'] == 1\n",
    "gen_20 = df[year][(df[year]['아내연령'].between(20, 30)) & first_marriage]\n",
    "gen_30 = df[year][(df[year]['아내연령'].between(30, 40)) & first_marriage]\n",
    "gen_40 = df[year][(df[year]['아내연령'].between(40, 50)) & first_marriage]\n",
    "gen_50 = df[year][(df[year]['아내연령'].between(50, 60)) & first_marriage]\n",
    "\n",
    "\n",
    "# 교육수준 같은 20대 / 전체 20대\n",
    "\n",
    "gen_20_same_ratio = len(gen_20[gen_20['아내교육코드'] == gen_20['남편교육코드']]) / len(gen_20)\n",
    "gen_30_same_ratio = len(gen_30[gen_30['아내교육코드'] == gen_30['남편교육코드']]) / len(gen_30)\n",
    "gen_40_same_ratio = len(gen_40[gen_40['아내교육코드'] == gen_40['남편교육코드']]) / len(gen_40)\n",
    "\n",
    "plt.bar(x=['20', '30', '40'], height=[gen_20_same_ratio, gen_30_same_ratio, gen_40_same_ratio])\n",
    "\n",
    "print(gen_20_same_ratio)\n",
    "print(gen_30_same_ratio)\n",
    "\n",
    "# 각 세대 중 동질 혼 건수 / 각 세대 전체 건수\n",
    "# -> 20대 > 30대 > 40대 ; 20대와 30대는 비율이 0.003정도 차이남"
   ]
  },
  {
   "cell_type": "markdown",
   "metadata": {},
   "source": [
    "### 지역 별 강혼 비율"
   ]
  },
  {
   "cell_type": "code",
   "execution_count": 112,
   "metadata": {},
   "outputs": [],
   "source": [
    "# 각 지역 강혼 수 / 각 지역 전체 혼인 수\n",
    "\n",
    "year = 2020\n",
    "\n",
    "hypogamy_per_area = dict(getDataFrame(1)[year - 2010]['아내지역코드'].value_counts())\n",
    "\n",
    "\n",
    "\n",
    "marriage_per_area = dict(df[year]['아내지역코드'].value_counts())\n",
    "\n",
    "\n",
    "ratio_area = {}\n",
    "\n",
    "for k in list(ratio_area.keys()):\n",
    "     if ratio_area[k] > 39:\n",
    "         del ratio_area[k]\n",
    "\n",
    "for job_code in hypogamy_per_area:\n",
    "    ratio_area[job_code] = hypogamy_per_area[job_code] / marriage_per_area[job_code]\n",
    "\n"
   ]
  },
  {
   "cell_type": "code",
   "execution_count": 110,
   "metadata": {},
   "outputs": [
    {
     "data": {
      "text/html": [
       "<div>\n",
       "<style scoped>\n",
       "    .dataframe tbody tr th:only-of-type {\n",
       "        vertical-align: middle;\n",
       "    }\n",
       "\n",
       "    .dataframe tbody tr th {\n",
       "        vertical-align: top;\n",
       "    }\n",
       "\n",
       "    .dataframe thead th {\n",
       "        text-align: right;\n",
       "    }\n",
       "</style>\n",
       "<table border=\"1\" class=\"dataframe\">\n",
       "  <thead>\n",
       "    <tr style=\"text-align: right;\">\n",
       "      <th></th>\n",
       "      <th>신고연도</th>\n",
       "      <th>신고월</th>\n",
       "      <th>신고일</th>\n",
       "      <th>남편지역코드</th>\n",
       "      <th>아내지역코드</th>\n",
       "      <th>실제결혼연도</th>\n",
       "      <th>실제결혼월</th>\n",
       "      <th>남편직업코드</th>\n",
       "      <th>아내직업코드</th>\n",
       "      <th>남편교육코드</th>\n",
       "      <th>아내교육코드</th>\n",
       "      <th>남편결혼코드</th>\n",
       "      <th>아내결혼코드</th>\n",
       "      <th>남편연령</th>\n",
       "      <th>아내연령</th>\n",
       "      <th>남편국적구분코드</th>\n",
       "      <th>남편국적코드</th>\n",
       "      <th>아내국적구분코드</th>\n",
       "      <th>아내국적코드</th>\n",
       "    </tr>\n",
       "  </thead>\n",
       "  <tbody>\n",
       "    <tr>\n",
       "      <th>5679</th>\n",
       "      <td>2020</td>\n",
       "      <td>12</td>\n",
       "      <td>4</td>\n",
       "      <td>31</td>\n",
       "      <td>89</td>\n",
       "      <td>2020</td>\n",
       "      <td>12</td>\n",
       "      <td>8</td>\n",
       "      <td>9</td>\n",
       "      <td>5</td>\n",
       "      <td>5</td>\n",
       "      <td>1</td>\n",
       "      <td>1</td>\n",
       "      <td>28.408</td>\n",
       "      <td>24.775</td>\n",
       "      <td>1.0</td>\n",
       "      <td>NaN</td>\n",
       "      <td>3.0</td>\n",
       "      <td>***</td>\n",
       "    </tr>\n",
       "    <tr>\n",
       "      <th>43897</th>\n",
       "      <td>2021</td>\n",
       "      <td>5</td>\n",
       "      <td>17</td>\n",
       "      <td>11</td>\n",
       "      <td>89</td>\n",
       "      <td>2020</td>\n",
       "      <td>11</td>\n",
       "      <td>1</td>\n",
       "      <td>3</td>\n",
       "      <td>4</td>\n",
       "      <td>5</td>\n",
       "      <td>3</td>\n",
       "      <td>1</td>\n",
       "      <td>49.819</td>\n",
       "      <td>35.797</td>\n",
       "      <td>NaN</td>\n",
       "      <td>NaN</td>\n",
       "      <td>NaN</td>\n",
       "      <td>NaN</td>\n",
       "    </tr>\n",
       "    <tr>\n",
       "      <th>55012</th>\n",
       "      <td>2021</td>\n",
       "      <td>9</td>\n",
       "      <td>16</td>\n",
       "      <td>31</td>\n",
       "      <td>89</td>\n",
       "      <td>2020</td>\n",
       "      <td>4</td>\n",
       "      <td>3</td>\n",
       "      <td>13</td>\n",
       "      <td>5</td>\n",
       "      <td>6</td>\n",
       "      <td>1</td>\n",
       "      <td>1</td>\n",
       "      <td>28.898</td>\n",
       "      <td>26.298</td>\n",
       "      <td>NaN</td>\n",
       "      <td>NaN</td>\n",
       "      <td>NaN</td>\n",
       "      <td>NaN</td>\n",
       "    </tr>\n",
       "    <tr>\n",
       "      <th>56682</th>\n",
       "      <td>2021</td>\n",
       "      <td>6</td>\n",
       "      <td>23</td>\n",
       "      <td>21</td>\n",
       "      <td>89</td>\n",
       "      <td>2020</td>\n",
       "      <td>3</td>\n",
       "      <td>13</td>\n",
       "      <td>5</td>\n",
       "      <td>5</td>\n",
       "      <td>4</td>\n",
       "      <td>3</td>\n",
       "      <td>1</td>\n",
       "      <td>60.216</td>\n",
       "      <td>40.326</td>\n",
       "      <td>NaN</td>\n",
       "      <td>NaN</td>\n",
       "      <td>NaN</td>\n",
       "      <td>NaN</td>\n",
       "    </tr>\n",
       "    <tr>\n",
       "      <th>58595</th>\n",
       "      <td>2021</td>\n",
       "      <td>7</td>\n",
       "      <td>20</td>\n",
       "      <td>31</td>\n",
       "      <td>89</td>\n",
       "      <td>2020</td>\n",
       "      <td>12</td>\n",
       "      <td>3</td>\n",
       "      <td>13</td>\n",
       "      <td>5</td>\n",
       "      <td>5</td>\n",
       "      <td>1</td>\n",
       "      <td>1</td>\n",
       "      <td>33.558</td>\n",
       "      <td>24.649</td>\n",
       "      <td>NaN</td>\n",
       "      <td>NaN</td>\n",
       "      <td>NaN</td>\n",
       "      <td>NaN</td>\n",
       "    </tr>\n",
       "    <tr>\n",
       "      <th>76630</th>\n",
       "      <td>2020</td>\n",
       "      <td>1</td>\n",
       "      <td>30</td>\n",
       "      <td>38</td>\n",
       "      <td>89</td>\n",
       "      <td>2020</td>\n",
       "      <td>1</td>\n",
       "      <td>2</td>\n",
       "      <td>2</td>\n",
       "      <td>5</td>\n",
       "      <td>6</td>\n",
       "      <td>1</td>\n",
       "      <td>1</td>\n",
       "      <td>31.572</td>\n",
       "      <td>29.353</td>\n",
       "      <td>1.0</td>\n",
       "      <td>NaN</td>\n",
       "      <td>3.0</td>\n",
       "      <td>***</td>\n",
       "    </tr>\n",
       "    <tr>\n",
       "      <th>96904</th>\n",
       "      <td>2020</td>\n",
       "      <td>6</td>\n",
       "      <td>19</td>\n",
       "      <td>38</td>\n",
       "      <td>89</td>\n",
       "      <td>2020</td>\n",
       "      <td>6</td>\n",
       "      <td>5</td>\n",
       "      <td>7</td>\n",
       "      <td>5</td>\n",
       "      <td>4</td>\n",
       "      <td>1</td>\n",
       "      <td>1</td>\n",
       "      <td>32.315</td>\n",
       "      <td>21.216</td>\n",
       "      <td>1.0</td>\n",
       "      <td>NaN</td>\n",
       "      <td>3.0</td>\n",
       "      <td>***</td>\n",
       "    </tr>\n",
       "    <tr>\n",
       "      <th>109723</th>\n",
       "      <td>2020</td>\n",
       "      <td>4</td>\n",
       "      <td>22</td>\n",
       "      <td>11</td>\n",
       "      <td>89</td>\n",
       "      <td>2020</td>\n",
       "      <td>4</td>\n",
       "      <td>2</td>\n",
       "      <td>13</td>\n",
       "      <td>5</td>\n",
       "      <td>4</td>\n",
       "      <td>1</td>\n",
       "      <td>1</td>\n",
       "      <td>31.419</td>\n",
       "      <td>22.523</td>\n",
       "      <td>1.0</td>\n",
       "      <td>NaN</td>\n",
       "      <td>3.0</td>\n",
       "      <td>***</td>\n",
       "    </tr>\n",
       "    <tr>\n",
       "      <th>146549</th>\n",
       "      <td>2020</td>\n",
       "      <td>8</td>\n",
       "      <td>5</td>\n",
       "      <td>31</td>\n",
       "      <td>89</td>\n",
       "      <td>2020</td>\n",
       "      <td>7</td>\n",
       "      <td>3</td>\n",
       "      <td>3</td>\n",
       "      <td>5</td>\n",
       "      <td>6</td>\n",
       "      <td>1</td>\n",
       "      <td>1</td>\n",
       "      <td>38.726</td>\n",
       "      <td>35.435</td>\n",
       "      <td>1.0</td>\n",
       "      <td>NaN</td>\n",
       "      <td>3.0</td>\n",
       "      <td>***</td>\n",
       "    </tr>\n",
       "    <tr>\n",
       "      <th>156479</th>\n",
       "      <td>2020</td>\n",
       "      <td>7</td>\n",
       "      <td>17</td>\n",
       "      <td>31</td>\n",
       "      <td>89</td>\n",
       "      <td>2020</td>\n",
       "      <td>6</td>\n",
       "      <td>5</td>\n",
       "      <td>5</td>\n",
       "      <td>5</td>\n",
       "      <td>5</td>\n",
       "      <td>1</td>\n",
       "      <td>1</td>\n",
       "      <td>25.956</td>\n",
       "      <td>20.306</td>\n",
       "      <td>1.0</td>\n",
       "      <td>NaN</td>\n",
       "      <td>3.0</td>\n",
       "      <td>***</td>\n",
       "    </tr>\n",
       "    <tr>\n",
       "      <th>164480</th>\n",
       "      <td>2020</td>\n",
       "      <td>9</td>\n",
       "      <td>2</td>\n",
       "      <td>36</td>\n",
       "      <td>89</td>\n",
       "      <td>2020</td>\n",
       "      <td>8</td>\n",
       "      <td>6</td>\n",
       "      <td>13</td>\n",
       "      <td>3</td>\n",
       "      <td>4</td>\n",
       "      <td>3</td>\n",
       "      <td>1</td>\n",
       "      <td>46.350</td>\n",
       "      <td>32.106</td>\n",
       "      <td>1.0</td>\n",
       "      <td>NaN</td>\n",
       "      <td>3.0</td>\n",
       "      <td>1151</td>\n",
       "    </tr>\n",
       "    <tr>\n",
       "      <th>168237</th>\n",
       "      <td>2020</td>\n",
       "      <td>7</td>\n",
       "      <td>20</td>\n",
       "      <td>37</td>\n",
       "      <td>89</td>\n",
       "      <td>2020</td>\n",
       "      <td>6</td>\n",
       "      <td>13</td>\n",
       "      <td>13</td>\n",
       "      <td>4</td>\n",
       "      <td>4</td>\n",
       "      <td>1</td>\n",
       "      <td>1</td>\n",
       "      <td>24.263</td>\n",
       "      <td>18.219</td>\n",
       "      <td>1.0</td>\n",
       "      <td>NaN</td>\n",
       "      <td>3.0</td>\n",
       "      <td>***</td>\n",
       "    </tr>\n",
       "  </tbody>\n",
       "</table>\n",
       "</div>"
      ],
      "text/plain": [
       "        신고연도  신고월  신고일  남편지역코드  아내지역코드  실제결혼연도  실제결혼월  남편직업코드  아내직업코드  남편교육코드  \\\n",
       "5679    2020   12    4      31      89    2020     12       8       9       5   \n",
       "43897   2021    5   17      11      89    2020     11       1       3       4   \n",
       "55012   2021    9   16      31      89    2020      4       3      13       5   \n",
       "56682   2021    6   23      21      89    2020      3      13       5       5   \n",
       "58595   2021    7   20      31      89    2020     12       3      13       5   \n",
       "76630   2020    1   30      38      89    2020      1       2       2       5   \n",
       "96904   2020    6   19      38      89    2020      6       5       7       5   \n",
       "109723  2020    4   22      11      89    2020      4       2      13       5   \n",
       "146549  2020    8    5      31      89    2020      7       3       3       5   \n",
       "156479  2020    7   17      31      89    2020      6       5       5       5   \n",
       "164480  2020    9    2      36      89    2020      8       6      13       3   \n",
       "168237  2020    7   20      37      89    2020      6      13      13       4   \n",
       "\n",
       "        아내교육코드  남편결혼코드  아내결혼코드    남편연령    아내연령  남편국적구분코드 남편국적코드  아내국적구분코드  \\\n",
       "5679         5       1       1  28.408  24.775       1.0    NaN       3.0   \n",
       "43897        5       3       1  49.819  35.797       NaN    NaN       NaN   \n",
       "55012        6       1       1  28.898  26.298       NaN    NaN       NaN   \n",
       "56682        4       3       1  60.216  40.326       NaN    NaN       NaN   \n",
       "58595        5       1       1  33.558  24.649       NaN    NaN       NaN   \n",
       "76630        6       1       1  31.572  29.353       1.0    NaN       3.0   \n",
       "96904        4       1       1  32.315  21.216       1.0    NaN       3.0   \n",
       "109723       4       1       1  31.419  22.523       1.0    NaN       3.0   \n",
       "146549       6       1       1  38.726  35.435       1.0    NaN       3.0   \n",
       "156479       5       1       1  25.956  20.306       1.0    NaN       3.0   \n",
       "164480       4       3       1  46.350  32.106       1.0    NaN       3.0   \n",
       "168237       4       1       1  24.263  18.219       1.0    NaN       3.0   \n",
       "\n",
       "       아내국적코드  \n",
       "5679      ***  \n",
       "43897     NaN  \n",
       "55012     NaN  \n",
       "56682     NaN  \n",
       "58595     NaN  \n",
       "76630     ***  \n",
       "96904     ***  \n",
       "109723    ***  \n",
       "146549    ***  \n",
       "156479    ***  \n",
       "164480   1151  \n",
       "168237    ***  "
      ]
     },
     "execution_count": 110,
     "metadata": {},
     "output_type": "execute_result"
    }
   ],
   "source": [
    "df[2020][df[2020]['아내지역코드'] == 89]"
   ]
  }
 ],
 "metadata": {
  "kernelspec": {
   "display_name": "Python 3.10.5 64-bit",
   "language": "python",
   "name": "python3"
  },
  "language_info": {
   "codemirror_mode": {
    "name": "ipython",
    "version": 3
   },
   "file_extension": ".py",
   "mimetype": "text/x-python",
   "name": "python",
   "nbconvert_exporter": "python",
   "pygments_lexer": "ipython3",
   "version": "3.10.5"
  },
  "orig_nbformat": 4,
  "vscode": {
   "interpreter": {
    "hash": "3196968d684371006099b3d55edeef8ed90365227a30deaef86e5d4aa8519be0"
   }
  }
 },
 "nbformat": 4,
 "nbformat_minor": 2
}
